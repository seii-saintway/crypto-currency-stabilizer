{
 "cells": [
  {
   "cell_type": "markdown",
   "metadata": {},
   "source": [
    "TODO: 对交易市场进行系统建模。设计控制器。稳定以日元计价的总资产。\n",
    "\n",
    "两个技术比较成熟的交易机器人：\n",
    "* https://github.com/thrasher-corp/gocryptotrader\n",
    "* https://github.com/DeviaVir/zenbot"
   ]
  },
  {
   "cell_type": "markdown",
   "metadata": {},
   "source": [
    "* https://github.com/mxcdevelop/APIDoc\n",
    "* https://github.com/mxcdevelop/APIDoc/blob/master/demos/python/mxc_v2.py"
   ]
  },
  {
   "cell_type": "code",
   "execution_count": null,
   "metadata": {},
   "outputs": [],
   "source": [
    "import mxc_v2"
   ]
  },
  {
   "cell_type": "code",
   "execution_count": null,
   "metadata": {},
   "outputs": [],
   "source": [
    "import pprint\n",
    "pp = pprint.PrettyPrinter(indent=4)"
   ]
  },
  {
   "cell_type": "code",
   "execution_count": null,
   "metadata": {},
   "outputs": [],
   "source": [
    "for item in mxc_v2.get_symbols()['data']:\n",
    "    if item['symbol'] == 'AR_ETH':\n",
    "        pp.pprint(item)"
   ]
  },
  {
   "cell_type": "code",
   "execution_count": null,
   "metadata": {},
   "outputs": [],
   "source": [
    "mxc_v2.get_timestamp()"
   ]
  },
  {
   "cell_type": "code",
   "execution_count": null,
   "metadata": {},
   "outputs": [],
   "source": [
    "mxc_v2.get_ticker('AR_ETH')"
   ]
  },
  {
   "cell_type": "code",
   "execution_count": null,
   "metadata": {},
   "outputs": [],
   "source": [
    "mxc_v2.get_account_info()"
   ]
  },
  {
   "cell_type": "code",
   "execution_count": null,
   "metadata": {},
   "outputs": [
    {
     "data": {
      "text/plain": [
       "{'msg': 'symbol forbidden', 'code': 30020}"
      ]
     },
     "execution_count": null,
     "metadata": {},
     "output_type": "execute_result"
    }
   ],
   "source": [
    "mxc_v2.place_order('AR_ETH', 0, 0.01, 'BID', 'MARKET_ORDER')"
   ]
  },
  {
   "cell_type": "markdown",
   "metadata": {},
   "source": [
    "https://github.com/bitbankinc/bitbank-api-docs"
   ]
  },
  {
   "cell_type": "code",
   "execution_count": null,
   "metadata": {},
   "outputs": [],
   "source": [
    "%%bash\n",
    "sudo -HE pip install git+https://github.com/bitbankinc/python-bitbankcc.git"
   ]
  },
  {
   "cell_type": "code",
   "execution_count": null,
   "metadata": {},
   "outputs": [],
   "source": [
    "import json, python_bitbankcc"
   ]
  },
  {
   "cell_type": "code",
   "execution_count": null,
   "metadata": {},
   "outputs": [],
   "source": [
    "pub = python_bitbankcc.public()"
   ]
  },
  {
   "cell_type": "code",
   "execution_count": null,
   "metadata": {},
   "outputs": [
    {
     "data": {
      "text/plain": [
       "{'sell': '41282',\n",
       " 'buy': '41266',\n",
       " 'high': '42847',\n",
       " 'low': '39600',\n",
       " 'last': '41275',\n",
       " 'vol': '37720.5480',\n",
       " 'timestamp': 1598411471195}"
      ]
     },
     "execution_count": null,
     "metadata": {},
     "output_type": "execute_result"
    }
   ],
   "source": [
    "pub.get_ticker('eth_jpy')"
   ]
  },
  {
   "cell_type": "code",
   "execution_count": null,
   "metadata": {},
   "outputs": [
    {
     "data": {
      "text/plain": [
       "{'sell': '7.422',\n",
       " 'buy': '7.401',\n",
       " 'high': '7.499',\n",
       " 'low': '7.151',\n",
       " 'last': '7.430',\n",
       " 'vol': '5593265.5416',\n",
       " 'timestamp': 1600999705883}"
      ]
     },
     "execution_count": null,
     "metadata": {},
     "output_type": "execute_result"
    }
   ],
   "source": [
    "pub.get_ticker('xlm_jpy')"
   ]
  },
  {
   "cell_type": "code",
   "execution_count": null,
   "metadata": {},
   "outputs": [
    {
     "data": {
      "text/plain": [
       "{'success': 1,\n",
       " 'data': {'sell': '42854',\n",
       "  'buy': '42835',\n",
       "  'high': '43095',\n",
       "  'low': '40661',\n",
       "  'last': '42859',\n",
       "  'vol': '19445.9089',\n",
       "  'timestamp': 1598265053644}}"
      ]
     },
     "execution_count": null,
     "metadata": {},
     "output_type": "execute_result"
    }
   ],
   "source": [
    "import requests\n",
    "requests.get('https://public.bitbank.cc/eth_jpy/ticker').json()"
   ]
  },
  {
   "cell_type": "code",
   "execution_count": null,
   "metadata": {},
   "outputs": [],
   "source": [
    "import json, python_bitbankcc"
   ]
  },
  {
   "cell_type": "code",
   "execution_count": null,
   "metadata": {},
   "outputs": [],
   "source": [
    "import os\n",
    "API_KEY = os.environ['BITBANK_API_KEY']\n",
    "API_SECRET = os.environ['BITBANK_API_SECRET']\n",
    "prv = python_bitbankcc.private(API_KEY, API_SECRET)"
   ]
  },
  {
   "cell_type": "code",
   "execution_count": null,
   "metadata": {},
   "outputs": [
    {
     "data": {
      "text/plain": [
       "{'assets': [{'asset': 'jpy',\n",
       "   'amount_precision': 4,\n",
       "   'onhand_amount': '502004.0359',\n",
       "   'locked_amount': '0.0000',\n",
       "   'free_amount': '502004.0359',\n",
       "   'stop_deposit': False,\n",
       "   'stop_withdrawal': False,\n",
       "   'withdrawal_fee': {'threshold': '30000.0000',\n",
       "    'under': '550.0000',\n",
       "    'over': '770.0000'}},\n",
       "  {'asset': 'btc',\n",
       "   'amount_precision': 8,\n",
       "   'onhand_amount': '0.00000000',\n",
       "   'locked_amount': '0.00000000',\n",
       "   'free_amount': '0.00000000',\n",
       "   'stop_deposit': False,\n",
       "   'stop_withdrawal': False,\n",
       "   'withdrawal_fee': '0.00100000'},\n",
       "  {'asset': 'ltc',\n",
       "   'amount_precision': 8,\n",
       "   'onhand_amount': '0.00000000',\n",
       "   'locked_amount': '0.00000000',\n",
       "   'free_amount': '0.00000000',\n",
       "   'stop_deposit': False,\n",
       "   'stop_withdrawal': False,\n",
       "   'withdrawal_fee': '0.00100000'},\n",
       "  {'asset': 'xrp',\n",
       "   'amount_precision': 6,\n",
       "   'onhand_amount': '0.000000',\n",
       "   'locked_amount': '0.000000',\n",
       "   'free_amount': '0.000000',\n",
       "   'stop_deposit': False,\n",
       "   'stop_withdrawal': False,\n",
       "   'withdrawal_fee': '0.150000'},\n",
       "  {'asset': 'eth',\n",
       "   'amount_precision': 8,\n",
       "   'onhand_amount': '0.00000000',\n",
       "   'locked_amount': '0.00000000',\n",
       "   'free_amount': '0.00000000',\n",
       "   'stop_deposit': False,\n",
       "   'stop_withdrawal': False,\n",
       "   'withdrawal_fee': '0.00500000'},\n",
       "  {'asset': 'mona',\n",
       "   'amount_precision': 8,\n",
       "   'onhand_amount': '0.00000000',\n",
       "   'locked_amount': '0.00000000',\n",
       "   'free_amount': '0.00000000',\n",
       "   'stop_deposit': False,\n",
       "   'stop_withdrawal': False,\n",
       "   'withdrawal_fee': '0.00100000'},\n",
       "  {'asset': 'bcc',\n",
       "   'amount_precision': 8,\n",
       "   'onhand_amount': '0.00000000',\n",
       "   'locked_amount': '0.00000000',\n",
       "   'free_amount': '0.00000000',\n",
       "   'stop_deposit': False,\n",
       "   'stop_withdrawal': False,\n",
       "   'withdrawal_fee': '0.00100000'},\n",
       "  {'asset': 'xlm',\n",
       "   'amount_precision': 7,\n",
       "   'onhand_amount': '0.0005000',\n",
       "   'locked_amount': '0.0000000',\n",
       "   'free_amount': '0.0005000',\n",
       "   'stop_deposit': False,\n",
       "   'stop_withdrawal': False,\n",
       "   'withdrawal_fee': '0.0100000'}]}"
      ]
     },
     "execution_count": 4,
     "metadata": {},
     "output_type": "execute_result"
    }
   ],
   "source": [
    "prv.get_asset()"
   ]
  },
  {
   "cell_type": "code",
   "execution_count": null,
   "metadata": {},
   "outputs": [
    {
     "data": {
      "text/plain": [
       "{'trades': [{'trade_id': 1032509090,\n",
       "   'order_id': 11057864918,\n",
       "   'pair': 'eth_jpy',\n",
       "   'side': 'sell',\n",
       "   'type': 'limit',\n",
       "   'amount': '0.0437',\n",
       "   'price': '42968',\n",
       "   'maker_taker': 'maker',\n",
       "   'fee_amount_base': '0.00000000',\n",
       "   'fee_amount_quote': '0.0000',\n",
       "   'executed_at': 1598266223014}]}"
      ]
     },
     "execution_count": null,
     "metadata": {},
     "output_type": "execute_result"
    }
   ],
   "source": [
    "prv.get_trade_history(pair='eth_jpy', order_count='1')"
   ]
  },
  {
   "cell_type": "code",
   "execution_count": null,
   "metadata": {},
   "outputs": [
    {
     "data": {
      "text/plain": [
       "{'order_id': 10941592486,\n",
       " 'pair': 'eth_jpy',\n",
       " 'side': 'buy',\n",
       " 'type': 'market',\n",
       " 'start_amount': '0.1200',\n",
       " 'remaining_amount': '0.0000',\n",
       " 'executed_amount': '0.1200',\n",
       " 'average_price': '41571',\n",
       " 'ordered_at': 1596780390497,\n",
       " 'status': 'FULLY_FILLED'}"
      ]
     },
     "execution_count": null,
     "metadata": {},
     "output_type": "execute_result"
    }
   ],
   "source": [
    "prv.get_order(pair='eth_jpy', order_id=10941592486)"
   ]
  },
  {
   "cell_type": "code",
   "execution_count": null,
   "metadata": {},
   "outputs": [
    {
     "data": {
      "text/plain": [
       "{'orders': [{'order_id': 11057864918,\n",
       "   'pair': 'eth_jpy',\n",
       "   'side': 'sell',\n",
       "   'type': 'limit',\n",
       "   'start_amount': '0.2000',\n",
       "   'remaining_amount': '0.2000',\n",
       "   'executed_amount': '0.0000',\n",
       "   'price': '42968',\n",
       "   'average_price': '0',\n",
       "   'ordered_at': 1598266110247,\n",
       "   'status': 'UNFILLED'}]}"
      ]
     },
     "execution_count": null,
     "metadata": {},
     "output_type": "execute_result"
    }
   ],
   "source": [
    "prv.get_active_orders('eth_jpy')"
   ]
  },
  {
   "cell_type": "code",
   "execution_count": null,
   "metadata": {},
   "outputs": [
    {
     "data": {
      "text/plain": [
       "{'order_id': 11058391506,\n",
       " 'pair': 'eth_jpy',\n",
       " 'side': 'buy',\n",
       " 'type': 'market',\n",
       " 'start_amount': '0.2000',\n",
       " 'remaining_amount': '0.2000',\n",
       " 'executed_amount': '0.0000',\n",
       " 'average_price': '0',\n",
       " 'ordered_at': 1598273263960,\n",
       " 'status': 'UNFILLED'}"
      ]
     },
     "execution_count": null,
     "metadata": {},
     "output_type": "execute_result"
    }
   ],
   "source": [
    "prv.order(\n",
    "    pair='eth_jpy', price='', amount='0.2', side='buy', order_type='market'\n",
    ")"
   ]
  },
  {
   "cell_type": "code",
   "execution_count": null,
   "metadata": {},
   "outputs": [
    {
     "data": {
      "text/plain": [
       "{'order_id': 11266910174,\n",
       " 'pair': 'xlm_jpy',\n",
       " 'side': 'buy',\n",
       " 'type': 'market',\n",
       " 'start_amount': '0.0001',\n",
       " 'remaining_amount': '0.0001',\n",
       " 'executed_amount': '0.0000',\n",
       " 'average_price': '0.000',\n",
       " 'ordered_at': 1600999959309,\n",
       " 'status': 'UNFILLED'}"
      ]
     },
     "execution_count": null,
     "metadata": {},
     "output_type": "execute_result"
    }
   ],
   "source": [
    "prv.order(\n",
    "    pair='xlm_jpy', price='', amount='0.0001', side='buy', order_type='market'\n",
    ")"
   ]
  },
  {
   "cell_type": "code",
   "execution_count": null,
   "metadata": {},
   "outputs": [
    {
     "data": {
      "text/plain": [
       "{'order_id': 11058391506,\n",
       " 'pair': 'eth_jpy',\n",
       " 'side': 'buy',\n",
       " 'type': 'market',\n",
       " 'start_amount': '0.2000',\n",
       " 'remaining_amount': '0.0000',\n",
       " 'executed_amount': '0.2000',\n",
       " 'average_price': '43023',\n",
       " 'ordered_at': 1598273263960,\n",
       " 'status': 'FULLY_FILLED'}"
      ]
     },
     "execution_count": null,
     "metadata": {},
     "output_type": "execute_result"
    }
   ],
   "source": [
    "prv.get_order(pair='eth_jpy', order_id='11058391506')"
   ]
  },
  {
   "cell_type": "code",
   "execution_count": null,
   "metadata": {},
   "outputs": [
    {
     "data": {
      "text/plain": [
       "{'order_id': 11057935263,\n",
       " 'pair': 'eth_jpy',\n",
       " 'side': 'sell',\n",
       " 'type': 'market',\n",
       " 'start_amount': '0.2000',\n",
       " 'remaining_amount': '0.2000',\n",
       " 'executed_amount': '0.0000',\n",
       " 'average_price': '0',\n",
       " 'ordered_at': 1598267107280,\n",
       " 'status': 'UNFILLED'}"
      ]
     },
     "execution_count": null,
     "metadata": {},
     "output_type": "execute_result"
    }
   ],
   "source": [
    "prv.order(\n",
    "    pair='eth_jpy', price='', amount='0.2', side='sell', order_type='market'\n",
    ")"
   ]
  },
  {
   "cell_type": "code",
   "execution_count": null,
   "metadata": {},
   "outputs": [
    {
     "data": {
      "text/plain": [
       "{'order_id': 11058402198,\n",
       " 'pair': 'eth_jpy',\n",
       " 'side': 'buy',\n",
       " 'type': 'limit',\n",
       " 'start_amount': '0.2000',\n",
       " 'remaining_amount': '0.2000',\n",
       " 'executed_amount': '0.0000',\n",
       " 'price': '42963',\n",
       " 'average_price': '0',\n",
       " 'ordered_at': 1598273428152,\n",
       " 'status': 'UNFILLED'}"
      ]
     },
     "execution_count": null,
     "metadata": {},
     "output_type": "execute_result"
    }
   ],
   "source": [
    "prv.order(\n",
    "    pair='eth_jpy',\n",
    "    price=pub.get_ticker('eth_jpy').get('sell', ''),\n",
    "    amount='0.2', side='buy', order_type='limit'\n",
    ")"
   ]
  },
  {
   "cell_type": "code",
   "execution_count": null,
   "metadata": {},
   "outputs": [
    {
     "data": {
      "text/plain": [
       "{'order_id': 11058402198,\n",
       " 'pair': 'eth_jpy',\n",
       " 'side': 'buy',\n",
       " 'type': 'limit',\n",
       " 'start_amount': '0.2000',\n",
       " 'remaining_amount': '0.0000',\n",
       " 'executed_amount': '0.2000',\n",
       " 'price': '42963',\n",
       " 'average_price': '42959',\n",
       " 'ordered_at': 1598273428152,\n",
       " 'status': 'FULLY_FILLED'}"
      ]
     },
     "execution_count": null,
     "metadata": {},
     "output_type": "execute_result"
    }
   ],
   "source": [
    "prv.get_order(pair='eth_jpy', order_id='11058402198')"
   ]
  },
  {
   "cell_type": "code",
   "execution_count": null,
   "metadata": {},
   "outputs": [
    {
     "data": {
      "text/plain": [
       "{'order_id': 11058393968,\n",
       " 'pair': 'eth_jpy',\n",
       " 'side': 'sell',\n",
       " 'type': 'limit',\n",
       " 'start_amount': '0.2000',\n",
       " 'remaining_amount': '0.2000',\n",
       " 'executed_amount': '0.0000',\n",
       " 'price': '42985',\n",
       " 'average_price': '0',\n",
       " 'ordered_at': 1598273303866,\n",
       " 'status': 'UNFILLED'}"
      ]
     },
     "execution_count": null,
     "metadata": {},
     "output_type": "execute_result"
    }
   ],
   "source": [
    "prv.order(\n",
    "    pair='eth_jpy',\n",
    "    price=pub.get_ticker('eth_jpy').get('buy', ''),\n",
    "    amount='0.2', side='sell', order_type='limit'\n",
    ")"
   ]
  },
  {
   "cell_type": "code",
   "execution_count": null,
   "metadata": {},
   "outputs": [
    {
     "data": {
      "text/plain": [
       "{'order_id': 11058404795,\n",
       " 'pair': 'eth_jpy',\n",
       " 'side': 'sell',\n",
       " 'type': 'limit',\n",
       " 'start_amount': '0.2000',\n",
       " 'remaining_amount': '0.2000',\n",
       " 'executed_amount': '0.0000',\n",
       " 'price': '50000',\n",
       " 'average_price': '0',\n",
       " 'ordered_at': 1598273467308,\n",
       " 'status': 'UNFILLED'}"
      ]
     },
     "execution_count": null,
     "metadata": {},
     "output_type": "execute_result"
    }
   ],
   "source": [
    "prv.order(\n",
    "    pair='eth_jpy',\n",
    "    price='50000',\n",
    "    amount='0.2', side='sell', order_type='limit'\n",
    ")"
   ]
  },
  {
   "cell_type": "code",
   "execution_count": null,
   "metadata": {},
   "outputs": [
    {
     "data": {
      "text/plain": [
       "{'order_id': 11058404795,\n",
       " 'pair': 'eth_jpy',\n",
       " 'side': 'sell',\n",
       " 'type': 'limit',\n",
       " 'start_amount': '0.2000',\n",
       " 'remaining_amount': '0.2000',\n",
       " 'executed_amount': '0.0000',\n",
       " 'price': '50000',\n",
       " 'average_price': '0',\n",
       " 'ordered_at': 1598273467308,\n",
       " 'status': 'UNFILLED'}"
      ]
     },
     "execution_count": null,
     "metadata": {},
     "output_type": "execute_result"
    }
   ],
   "source": [
    "prv.get_order(pair='eth_jpy', order_id='11058404795')"
   ]
  },
  {
   "cell_type": "code",
   "execution_count": null,
   "metadata": {},
   "outputs": [
    {
     "data": {
      "text/plain": [
       "{'order_id': 11058404795,\n",
       " 'pair': 'eth_jpy',\n",
       " 'side': 'sell',\n",
       " 'type': 'limit',\n",
       " 'start_amount': '0.2000',\n",
       " 'remaining_amount': '0.2000',\n",
       " 'executed_amount': '0.0000',\n",
       " 'price': '50000',\n",
       " 'average_price': '0',\n",
       " 'ordered_at': 1598273467308,\n",
       " 'canceled_at': 1598273720880,\n",
       " 'status': 'CANCELED_UNFILLED'}"
      ]
     },
     "execution_count": null,
     "metadata": {},
     "output_type": "execute_result"
    }
   ],
   "source": [
    "prv.cancel_order(pair='eth_jpy', order_id='11058404795')"
   ]
  },
  {
   "cell_type": "code",
   "execution_count": null,
   "metadata": {},
   "outputs": [
    {
     "data": {
      "text/plain": [
       "{'order_id': 11058404795,\n",
       " 'pair': 'eth_jpy',\n",
       " 'side': 'sell',\n",
       " 'type': 'limit',\n",
       " 'start_amount': '0.2000',\n",
       " 'remaining_amount': '0.2000',\n",
       " 'executed_amount': '0.0000',\n",
       " 'price': '50000',\n",
       " 'average_price': '0',\n",
       " 'ordered_at': 1598273467308,\n",
       " 'status': 'CANCELED_UNFILLED'}"
      ]
     },
     "execution_count": null,
     "metadata": {},
     "output_type": "execute_result"
    }
   ],
   "source": [
    "prv.get_order(pair='eth_jpy', order_id='11058404795')"
   ]
  },
  {
   "cell_type": "code",
   "execution_count": null,
   "metadata": {},
   "outputs": [
    {
     "data": {
      "text/plain": [
       "{'order_id': 11058404795,\n",
       " 'pair': 'eth_jpy',\n",
       " 'side': 'sell',\n",
       " 'type': 'limit',\n",
       " 'start_amount': '0.2000',\n",
       " 'remaining_amount': '0.2000',\n",
       " 'executed_amount': '0.0000',\n",
       " 'price': '50000',\n",
       " 'average_price': '0',\n",
       " 'ordered_at': 1598273467308,\n",
       " 'status': 'CANCELED_UNFILLED'}"
      ]
     },
     "execution_count": null,
     "metadata": {},
     "output_type": "execute_result"
    }
   ],
   "source": [
    "prv.get_order(pair='eth_jpy', order_id='11058404795')"
   ]
  },
  {
   "cell_type": "code",
   "execution_count": null,
   "metadata": {},
   "outputs": [
    {
     "data": {
      "text/plain": [
       "{'order_id': 11058437213,\n",
       " 'pair': 'eth_jpy',\n",
       " 'side': 'sell',\n",
       " 'type': 'market',\n",
       " 'start_amount': '0.4000',\n",
       " 'remaining_amount': '0.0000',\n",
       " 'executed_amount': '0.4000',\n",
       " 'average_price': '42937',\n",
       " 'ordered_at': 1598273955200,\n",
       " 'status': 'FULLY_FILLED'}"
      ]
     },
     "execution_count": null,
     "metadata": {},
     "output_type": "execute_result"
    }
   ],
   "source": [
    "prv.get_order(pair='eth_jpy', order_id=str(prv.order(\n",
    "    pair='eth_jpy', price='', amount='0.4', side='sell', order_type='market'\n",
    ").get('order_id', '')))"
   ]
  },
  {
   "cell_type": "code",
   "execution_count": null,
   "metadata": {},
   "outputs": [
    {
     "data": {
      "text/plain": [
       "{'order_id': 11058503789,\n",
       " 'pair': 'eth_jpy',\n",
       " 'side': 'buy',\n",
       " 'type': 'limit',\n",
       " 'start_amount': '0.2000',\n",
       " 'remaining_amount': '0.2000',\n",
       " 'executed_amount': '0.0000',\n",
       " 'price': '1',\n",
       " 'average_price': '0',\n",
       " 'ordered_at': 1598274981520,\n",
       " 'status': 'UNFILLED'}"
      ]
     },
     "execution_count": null,
     "metadata": {},
     "output_type": "execute_result"
    }
   ],
   "source": [
    "prv.order(\n",
    "    pair='eth_jpy',\n",
    "    price='1',\n",
    "    amount='0.2', side='buy', order_type='limit'\n",
    ")"
   ]
  },
  {
   "cell_type": "code",
   "execution_count": null,
   "metadata": {},
   "outputs": [
    {
     "data": {
      "text/plain": [
       "{'order_id': 11058503789,\n",
       " 'pair': 'eth_jpy',\n",
       " 'side': 'buy',\n",
       " 'type': 'limit',\n",
       " 'start_amount': '0.2000',\n",
       " 'remaining_amount': '0.2000',\n",
       " 'executed_amount': '0.0000',\n",
       " 'price': '1',\n",
       " 'average_price': '0',\n",
       " 'ordered_at': 1598274981520,\n",
       " 'status': 'UNFILLED'}"
      ]
     },
     "execution_count": null,
     "metadata": {},
     "output_type": "execute_result"
    }
   ],
   "source": [
    "prv.get_order(pair='eth_jpy', order_id='11058503789')"
   ]
  },
  {
   "cell_type": "code",
   "execution_count": null,
   "metadata": {},
   "outputs": [
    {
     "data": {
      "text/plain": [
       "{'order_id': 11058503789,\n",
       " 'pair': 'eth_jpy',\n",
       " 'side': 'buy',\n",
       " 'type': 'limit',\n",
       " 'start_amount': '0.2000',\n",
       " 'remaining_amount': '0.2000',\n",
       " 'executed_amount': '0.0000',\n",
       " 'price': '1',\n",
       " 'average_price': '0',\n",
       " 'ordered_at': 1598274981520,\n",
       " 'status': 'CANCELED_UNFILLED'}"
      ]
     },
     "execution_count": null,
     "metadata": {},
     "output_type": "execute_result"
    }
   ],
   "source": [
    "prv.get_order(pair='eth_jpy', order_id='11058503789')"
   ]
  }
 ],
 "metadata": {
  "kernelspec": {
   "display_name": "Python 3",
   "language": "python",
   "name": "python3"
  },
  "language_info": {
   "codemirror_mode": {
    "name": "ipython",
    "version": 3
   },
   "file_extension": ".py",
   "mimetype": "text/x-python",
   "name": "python",
   "nbconvert_exporter": "python",
   "pygments_lexer": "ipython3",
   "version": "3.6.7"
  }
 },
 "nbformat": 4,
 "nbformat_minor": 4
}
