{
 "cells": [
  {
   "cell_type": "code",
   "execution_count": null,
   "metadata": {},
   "outputs": [],
   "source": [
    "TEST_RATIO = 1"
   ]
  },
  {
   "cell_type": "code",
   "execution_count": null,
   "metadata": {},
   "outputs": [],
   "source": [
    "SAMPLE_INTERVAL = 60 * 15\n",
    "HISTORY_FILENAME = 'transaction-history.txt'"
   ]
  },
  {
   "cell_type": "code",
   "execution_count": null,
   "metadata": {},
   "outputs": [],
   "source": [
    "SAMPLE_INTERVAL = 60\n",
    "HISTORY_FILENAME = 'sample-history.txt'"
   ]
  },
  {
   "cell_type": "code",
   "execution_count": null,
   "metadata": {},
   "outputs": [],
   "source": [
    "import matplotlib.pyplot as plt\n",
    "plt.close('all')"
   ]
  },
  {
   "cell_type": "code",
   "execution_count": null,
   "metadata": {},
   "outputs": [],
   "source": [
    "import matplotlib.pyplot as plt\n",
    "plt.close('all')\n",
    "\n",
    "plt.figure(figsize=(16, 8), dpi=80)\n",
    "plt.grid(True)\n",
    "\n",
    "import IPython\n",
    "import re\n",
    "import time\n",
    "\n",
    "num = []\n",
    "buy = []\n",
    "sell = []\n",
    "with open(HISTORY_FILENAME, 'r') as f:\n",
    "    i = 0\n",
    "    while True:\n",
    "        for line in f.readlines():\n",
    "            res = re.search(\n",
    "                r'^(?:(?:BOUGHT)|(?:BUY))(?: \\d+\\.?\\d*)?(?: ETH)? for (\\d+) JPY'\n",
    "                r'(?:: SELL)?(?: ETH)?(?: for )?(\\d+)?(?: JPY)?(?:: NO\\.\\d+)?',\n",
    "                line\n",
    "            )\n",
    "            if res is None:\n",
    "                continue\n",
    "            num.append(SAMPLE_INTERVAL/TEST_RATIO/3600 * i)\n",
    "            buy.append(int(res.group(1)))\n",
    "            sell.append(None if res.group(2) is None else int(res.group(2)))\n",
    "            i += 1\n",
    "\n",
    "        plt.plot(num, buy, 'b-', linewidth=0.8)\n",
    "        plt.plot(num, sell, 'g-', linewidth=0.8)\n",
    "\n",
    "        IPython.display.display(plt.gcf())\n",
    "        IPython.display.clear_output(wait=True)\n",
    "\n",
    "        time.sleep(SAMPLE_INTERVAL/TEST_RATIO/10)"
   ]
  }
 ],
 "metadata": {
  "kernelspec": {
   "display_name": "Python 3",
   "language": "python",
   "name": "python3"
  },
  "language_info": {
   "codemirror_mode": {
    "name": "ipython",
    "version": 3
   },
   "file_extension": ".py",
   "mimetype": "text/x-python",
   "name": "python",
   "nbconvert_exporter": "python",
   "pygments_lexer": "ipython3",
   "version": "3.6.7"
  }
 },
 "nbformat": 4,
 "nbformat_minor": 4
}
