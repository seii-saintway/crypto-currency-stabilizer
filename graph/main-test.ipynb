{
 "cells": [
  {
   "cell_type": "markdown",
   "metadata": {},
   "source": [
    "# A Trader Stabilize Fiat Value of Crypto Currency"
   ]
  },
  {
   "cell_type": "code",
   "execution_count": null,
   "metadata": {},
   "outputs": [],
   "source": [
    "TEST_RATIO = 1"
   ]
  },
  {
   "cell_type": "code",
   "execution_count": null,
   "metadata": {},
   "outputs": [],
   "source": [
    "SAMPLE_INTERVAL = 60\n",
    "HAPPY_COOLING_TIME = 60\n",
    "SAD_COOLING_TIME = 60 * 6\n",
    "BUY_RATE = 15\n",
    "BUY_AMOUNT = 0.04 / TEST_RATIO\n",
    "UNIT_CC_INIT_BUY_JPY = 40000\n",
    "MAX_SELL_COUNT = 128\n",
    "MAX_USED_JPY = 400000\n",
    "MIN_UNIT_CC_GAIN_JPY = 400\n",
    "MIN_UNIT_CC_LOSS_JPY = 400\n",
    "MAX_UNIT_CC_LOSS_JPY = 4000\n",
    "MAX_LOSS_JPY = 4000\n",
    "MAX_TOTAL_LOSS_JPY = 8000"
   ]
  },
  {
   "cell_type": "code",
   "execution_count": null,
   "metadata": {},
   "outputs": [],
   "source": [
    "from datetime import datetime\n",
    "import json, sys, time\n",
    "import python_bitbankcc"
   ]
  },
  {
   "cell_type": "code",
   "execution_count": null,
   "metadata": {},
   "outputs": [],
   "source": [
    "pub = python_bitbankcc.public()"
   ]
  },
  {
   "cell_type": "markdown",
   "metadata": {},
   "source": [
    "## Simulated One"
   ]
  },
  {
   "cell_type": "code",
   "execution_count": null,
   "metadata": {},
   "outputs": [],
   "source": [
    "from unittest.mock import Mock\n",
    "prv = Mock()"
   ]
  },
  {
   "cell_type": "markdown",
   "metadata": {},
   "source": [
    "## Actual One"
   ]
  },
  {
   "cell_type": "code",
   "execution_count": null,
   "metadata": {},
   "outputs": [],
   "source": [
    "# import os\n",
    "# prv = python_bitbankcc.private(\n",
    "#     os.environ['BITBANK_API_KEY'],\n",
    "#     os.environ['BITBANK_API_SECRET']\n",
    "# )"
   ]
  },
  {
   "cell_type": "markdown",
   "metadata": {},
   "source": [
    "## Trading Operations"
   ]
  },
  {
   "cell_type": "code",
   "execution_count": null,
   "metadata": {},
   "outputs": [],
   "source": [
    "def sell_all():\n",
    "    now_ticker = pub.get_ticker('eth_jpy')\n",
    "    now_sell_jpy = int(now_ticker.get('buy', '0'))\n",
    "    now_buy_jpy = int(now_ticker.get('sell', '1'))\n",
    "\n",
    "    please_sell_amount = BUY_AMOUNT * bought_unit_amount\n",
    "    prv.order(\n",
    "        pair='eth_jpy', price=str(now_sell_jpy), amount=str(please_sell_amount), side='sell', order_type='market'\n",
    "    )\n",
    "\n",
    "    bought_amount = BUY_AMOUNT * bought_unit_amount\n",
    "    total_gain_jpy = total_gained_jpy + now_sell_jpy * bought_amount - used_jpy\n",
    "    with open('sample-history.txt', 'a', 1) as fsh:\n",
    "        fsh.write(\n",
    "            f'BUY ETH for {now_buy_jpy} JPY: SELL ETH for {now_sell_jpy} JPY\\n'\n",
    "            f'GAIN {total_gain_jpy} JPY in total at {datetime.now()}\\n\\n'\n",
    "        )\n",
    "    print(\n",
    "        f'BUY ETH for {now_buy_jpy} JPY: SELL ETH for {now_sell_jpy} JPY\\n'\n",
    "        f'GAIN {total_gain_jpy} JPY in total at {datetime.now()}\\n\\n',\n",
    "        end=''\n",
    "    )\n",
    "\n",
    "    avg_jpy = used_jpy / bought_amount\n",
    "    diff_jpy = now_sell_jpy - avg_jpy\n",
    "    gained_jpy = diff_jpy * please_sell_amount\n",
    "    with open('transaction-history.txt', 'a', 1) as fth:\n",
    "        fth.write(\n",
    "            f'SOLD {please_sell_amount:.2f}=+{bought_amount:.2f}({used_jpy/MAX_USED_JPY*100:.2f}%)'\n",
    "            f'-{bought_amount-please_sell_amount:.2f}(0.00%) ETH'\n",
    "            f' for {diff_jpy:.2f}={now_sell_jpy}-{avg_jpy:.2f} JPY：BUY ETH for {now_buy_jpy} JPY\\n'\n",
    "            f'GAINED {gained_jpy} JPY: GAINED {total_gained_jpy + gained_jpy} JPY in total at {datetime.now()}\\n\\n'\n",
    "        )\n",
    "    print(\n",
    "        f'SOLD {please_sell_amount:.2f}=+{bought_amount:.2f}({used_jpy/MAX_USED_JPY*100:.2f}%)'\n",
    "        f'-{bought_amount-please_sell_amount:.2f}(0.00%) ETH'\n",
    "        f' for {diff_jpy:.2f}={now_sell_jpy}-{avg_jpy:.2f} JPY：BUY ETH for {now_buy_jpy} JPY\\n'\n",
    "        f'GAINED {gained_jpy} JPY: GAINED {total_gained_jpy + gained_jpy} JPY in total at {datetime.now()}\\n\\n',\n",
    "        end=''\n",
    "    )\n",
    "\n",
    "    return {\n",
    "        'sample_number': sample_number,\n",
    "        'buy_count': buy_count,\n",
    "        'sell_count': sell_count,\n",
    "        'bought_unit_amount': bought_unit_amount,\n",
    "        'used_jpy': used_jpy,\n",
    "        'please_buy_unit_amount': please_buy_unit_amount,\n",
    "        'please_sell_unit_amount': please_sell_unit_amount,\n",
    "        'cooling_time': cooling_time,\n",
    "        'total_gained_jpy': total_gained_jpy\n",
    "    }"
   ]
  },
  {
   "cell_type": "markdown",
   "metadata": {},
   "source": [
    "## Start Trading"
   ]
  },
  {
   "cell_type": "code",
   "execution_count": null,
   "metadata": {},
   "outputs": [],
   "source": [
    "sample_number = 0\n",
    "buy_count = 0\n",
    "sell_count = 0\n",
    "bought_unit_amount = 0\n",
    "used_jpy = 0\n",
    "bought_average_jpy = UNIT_CC_INIT_BUY_JPY\n",
    "please_buy_unit_amount = 0\n",
    "please_sell_unit_amount = 0\n",
    "cooling_time = HAPPY_COOLING_TIME\n",
    "total_gained_jpy = 0"
   ]
  },
  {
   "cell_type": "code",
   "execution_count": null,
   "metadata": {},
   "outputs": [],
   "source": [
    "with open('sample-history.txt', 'a', 1) as fsh, open('transaction-history.txt', 'a', 1) as fth:\n",
    "    while True:\n",
    "        now_ticker = pub.get_ticker('eth_jpy')\n",
    "        now_sell_jpy = int(now_ticker.get('buy', '0'))\n",
    "        now_buy_jpy = int(now_ticker.get('sell', '1'))\n",
    "\n",
    "        bought_amount = BUY_AMOUNT * bought_unit_amount\n",
    "\n",
    "        if sample_number % BUY_RATE == 0:\n",
    "            if bought_unit_amount > 0 and now_sell_jpy < used_jpy/bought_amount - MAX_UNIT_CC_LOSS_JPY:\n",
    "                please_sell_unit_amount = bought_unit_amount\n",
    "                cooling_time = SAD_COOLING_TIME\n",
    "\n",
    "            if now_sell_jpy * bought_amount - used_jpy < -MAX_LOSS_JPY:\n",
    "                please_sell_unit_amount = bought_unit_amount\n",
    "                cooling_time = SAD_COOLING_TIME\n",
    "\n",
    "        if sample_number % BUY_RATE == 0 and bought_unit_amount > 0 and now_sell_jpy > used_jpy/bought_amount:\n",
    "            please_sell_unit_amount = 1\n",
    "            cooling_time = HAPPY_COOLING_TIME\n",
    "\n",
    "        if bought_unit_amount > 0 and now_sell_jpy > used_jpy/bought_amount + MIN_UNIT_CC_GAIN_JPY \\\n",
    "                * (MAX_USED_JPY ** 2 - used_jpy ** 2) ** 0.5 / MAX_USED_JPY:\n",
    "            sample_number = 0\n",
    "            please_sell_unit_amount = (bought_unit_amount + 1) // 2\n",
    "            cooling_time = HAPPY_COOLING_TIME\n",
    "\n",
    "        if please_sell_unit_amount > 0:\n",
    "            please_sell_amount = BUY_AMOUNT * please_sell_unit_amount\n",
    "            prv.order(\n",
    "                pair='eth_jpy', price=str(now_sell_jpy), amount=str(please_sell_amount), side='sell', order_type='market'\n",
    "            )\n",
    "\n",
    "            bought_amount = BUY_AMOUNT * bought_unit_amount\n",
    "            total_gain_jpy = total_gained_jpy + now_sell_jpy * bought_amount - used_jpy\n",
    "            fsh.write(\n",
    "                f'BUY ETH for {now_buy_jpy} JPY: SELL ETH for {now_sell_jpy} JPY\\n'\n",
    "                f'GAIN {total_gain_jpy} JPY in total at {datetime.now()}\\n\\n'\n",
    "            )\n",
    "\n",
    "            used_jpy_after = used_jpy * (bought_unit_amount - please_sell_unit_amount) / bought_unit_amount\n",
    "\n",
    "            avg_jpy = used_jpy / bought_amount\n",
    "            diff_jpy = now_sell_jpy - avg_jpy\n",
    "            gained_jpy = diff_jpy * please_sell_amount\n",
    "            total_gained_jpy += gained_jpy\n",
    "            fth.write(\n",
    "                f'SOLD {please_sell_amount:.2f}=+{bought_amount:.2f}({used_jpy/MAX_USED_JPY*100:.2f}%)'\n",
    "                f'-{bought_amount-please_sell_amount:.2f}({used_jpy_after/MAX_USED_JPY*100:.2f}%) ETH'\n",
    "                f' for {diff_jpy:.2f}={now_sell_jpy}-{avg_jpy:.2f} JPY：BUY ETH for {now_buy_jpy} JPY\\n'\n",
    "                f'GAINED {gained_jpy} JPY: GAINED {total_gained_jpy} JPY in total at {datetime.now()}\\n\\n'\n",
    "            )\n",
    "\n",
    "            buy_count = 0\n",
    "            sell_count += 1\n",
    "            bought_unit_amount -= please_sell_unit_amount\n",
    "            used_jpy *= bought_unit_amount / (bought_unit_amount + please_sell_unit_amount)\n",
    "            please_buy_unit_amount = 0\n",
    "            please_sell_unit_amount = 0\n",
    "\n",
    "            if sell_count == MAX_SELL_COUNT or total_gained_jpy < -MAX_TOTAL_LOSS_JPY:\n",
    "                sell_count = 0\n",
    "                cooling_time = HAPPY_COOLING_TIME\n",
    "                total_gained_jpy = 0\n",
    "                break\n",
    "\n",
    "            time.sleep(cooling_time/TEST_RATIO)\n",
    "            sample_number += 1\n",
    "            cooling_time = HAPPY_COOLING_TIME\n",
    "            continue\n",
    "\n",
    "        if sample_number % BUY_RATE == 0 and now_buy_jpy < bought_average_jpy \\\n",
    "                and used_jpy + now_buy_jpy * BUY_AMOUNT <= MAX_USED_JPY:\n",
    "            please_buy_unit_amount = 1\n",
    "\n",
    "        if bought_unit_amount > 0 and now_buy_jpy < used_jpy/bought_amount - MIN_UNIT_CC_LOSS_JPY \\\n",
    "                * (used_jpy * MAX_USED_JPY * 2 - used_jpy ** 2) ** 0.5 / MAX_USED_JPY:\n",
    "            buy_unit_amount = bought_unit_amount\n",
    "            while buy_unit_amount > 0 and used_jpy + now_buy_jpy * BUY_AMOUNT * buy_unit_amount > MAX_USED_JPY:\n",
    "                buy_unit_amount >>= 1\n",
    "            if buy_unit_amount > 0:\n",
    "                sample_number = 0\n",
    "                please_buy_unit_amount = buy_unit_amount\n",
    "\n",
    "        if please_buy_unit_amount > 0:\n",
    "            please_buy_amount = BUY_AMOUNT * please_buy_unit_amount\n",
    "            prv.order(\n",
    "                pair='eth_jpy', price=str(now_buy_jpy), amount=str(please_buy_amount), side='buy', order_type='market'\n",
    "            )\n",
    "\n",
    "            used_jpy_before = used_jpy\n",
    "\n",
    "            buy_count += 1\n",
    "            bought_unit_amount += please_buy_unit_amount\n",
    "            used_jpy += now_buy_jpy * please_buy_amount\n",
    "            bought_average_jpy = used_jpy / (BUY_AMOUNT * bought_unit_amount)\n",
    "            please_buy_unit_amount = 0\n",
    "\n",
    "            bought_amount = BUY_AMOUNT * bought_unit_amount\n",
    "            avg_jpy = used_jpy / bought_amount\n",
    "            diff_jpy = now_sell_jpy - avg_jpy\n",
    "            gain_jpy = now_sell_jpy * bought_amount - used_jpy\n",
    "            total_gain_jpy = total_gained_jpy + gain_jpy\n",
    "            fth.write(\n",
    "                f'BOUGHT {please_buy_amount:.2f}=-{bought_amount-please_buy_amount:.2f}({used_jpy_before/MAX_USED_JPY*100:.2f}%)'\n",
    "                f'+{bought_amount:.2f}({used_jpy/MAX_USED_JPY*100:.2f}%) ETH for {now_buy_jpy} JPY:'\n",
    "                f' SELL {bought_amount:.2f} for {diff_jpy:.2f}={now_sell_jpy}-{avg_jpy:.2f} JPY: NO.{buy_count} at {datetime.now()}\\n'\n",
    "                f'GAIN {gain_jpy} JPY: GAIN {total_gain_jpy} JPY in total at {datetime.now()}\\n\\n'\n",
    "            )\n",
    "        elif sample_number % BUY_RATE == 0:\n",
    "            bought_amount = BUY_AMOUNT * bought_unit_amount\n",
    "            total_gain_jpy = total_gained_jpy + now_sell_jpy * bought_amount - used_jpy\n",
    "            fsh.write(\n",
    "                f'BUY ETH for {now_buy_jpy} JPY: SELL ETH for {now_sell_jpy} JPY\\n'\n",
    "                f'GAIN {total_gain_jpy} JPY in total at {datetime.now()}\\n\\n'\n",
    "            )\n",
    "\n",
    "            bought_amount = BUY_AMOUNT * bought_unit_amount\n",
    "            avg_jpy = bought_average_jpy\n",
    "            diff_jpy = now_sell_jpy - avg_jpy\n",
    "            total_gain_jpy = total_gained_jpy + now_sell_jpy * bought_amount - used_jpy\n",
    "            fth.write(\n",
    "                f'BUY for {now_buy_jpy} JPY: SELL for {diff_jpy:.2f}={now_sell_jpy}-{avg_jpy:.2f} JPY: at {datetime.now()}\\n'\n",
    "                f'GAIN {total_gain_jpy} JPY in total at {datetime.now()}\\n\\n'\n",
    "            )\n",
    "\n",
    "            time.sleep(SAMPLE_INTERVAL / TEST_RATIO)\n",
    "            continue\n",
    "\n",
    "        bought_amount = BUY_AMOUNT * bought_unit_amount\n",
    "        total_gain_jpy = total_gained_jpy + now_sell_jpy * bought_amount - used_jpy\n",
    "        fsh.write(\n",
    "            f'BUY ETH for {now_buy_jpy} JPY: SELL ETH for {now_sell_jpy} JPY\\n'\n",
    "            f'GAIN {total_gain_jpy} JPY in total at {datetime.now()}\\n\\n'\n",
    "        )\n",
    "\n",
    "        time.sleep(SAMPLE_INTERVAL / TEST_RATIO)\n",
    "        sample_number += 1"
   ]
  },
  {
   "cell_type": "code",
   "execution_count": null,
   "metadata": {},
   "outputs": [],
   "source": [
    "sell_all()"
   ]
  }
 ],
 "metadata": {
  "kernelspec": {
   "display_name": "Python 3",
   "language": "python",
   "name": "python3"
  },
  "language_info": {
   "codemirror_mode": {
    "name": "ipython",
    "version": 3
   },
   "file_extension": ".py",
   "mimetype": "text/x-python",
   "name": "python",
   "nbconvert_exporter": "python",
   "pygments_lexer": "ipython3",
   "version": "3.6.7"
  }
 },
 "nbformat": 4,
 "nbformat_minor": 4
}
