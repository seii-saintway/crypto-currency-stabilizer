{
 "cells": [
  {
   "cell_type": "markdown",
   "metadata": {},
   "source": [
    "# A Trader Stabilize Fiat Value of Crypto Currency"
   ]
  },
  {
   "cell_type": "code",
   "execution_count": 1,
   "metadata": {},
   "outputs": [],
   "source": [
    "TEST_RATIO = 1"
   ]
  },
  {
   "cell_type": "code",
   "execution_count": 2,
   "metadata": {},
   "outputs": [],
   "source": [
    "SAMPLE_INTERVAL = 60\n",
    "HAPPY_COOLING_TIME = 60\n",
    "SAD_COOLING_TIME = 60 * 6\n",
    "BUY_RATE = 15\n",
    "BUY_AMOUNT = 0.25 / 5 / TEST_RATIO\n",
    "MAX_SELL_COUNT = 32\n",
    "MAX_USED_JPY = 500000 / 5 * 2\n",
    "MIN_UNIT_CC_GAIN_JPY = 100\n",
    "MIN_UNIT_CC_LOSS_JPY = 100\n",
    "MAX_UNIT_CC_LOSS_JPY = 5000\n",
    "MAX_LOSS_JPY = 4000 / 5\n",
    "MAX_TOTAL_LOSS_JPY = 8000 / 5"
   ]
  },
  {
   "cell_type": "code",
   "execution_count": 3,
   "metadata": {},
   "outputs": [],
   "source": [
    "from datetime import datetime\n",
    "import json, sys, time\n",
    "import python_bitbankcc"
   ]
  },
  {
   "cell_type": "code",
   "execution_count": 4,
   "metadata": {},
   "outputs": [],
   "source": [
    "pub = python_bitbankcc.public()"
   ]
  },
  {
   "cell_type": "markdown",
   "metadata": {},
   "source": [
    "## Simulated One"
   ]
  },
  {
   "cell_type": "code",
   "execution_count": 5,
   "metadata": {},
   "outputs": [],
   "source": [
    "from unittest.mock import Mock\n",
    "prv = Mock()"
   ]
  },
  {
   "cell_type": "markdown",
   "metadata": {},
   "source": [
    "## Actual One"
   ]
  },
  {
   "cell_type": "code",
   "execution_count": null,
   "metadata": {},
   "outputs": [],
   "source": [
    "# import os\n",
    "# prv = python_bitbankcc.private(\n",
    "#     os.environ['BITBANK_API_KEY'],\n",
    "#     os.environ['BITBANK_API_SECRET']\n",
    "# )"
   ]
  },
  {
   "cell_type": "markdown",
   "metadata": {},
   "source": [
    "## Start Trading"
   ]
  },
  {
   "cell_type": "code",
   "execution_count": null,
   "metadata": {},
   "outputs": [],
   "source": [
    "sample_number = 0\n",
    "buy_count = 0\n",
    "sell_count = 0\n",
    "bought_amount = 0\n",
    "used_jpy = 0\n",
    "please_buy_amount = 0\n",
    "please_sell_amount = 0\n",
    "cooling_time = HAPPY_COOLING_TIME\n",
    "total_gained_jpy = 0"
   ]
  },
  {
   "cell_type": "code",
   "execution_count": null,
   "metadata": {},
   "outputs": [],
   "source": [
    "with open('sample-history.txt', 'a', 1) as fsh, open('transaction-history.txt', 'a', 1) as fth:\n",
    "    while True:\n",
    "        now_ticker = pub.get_ticker('eth_jpy')\n",
    "        now_sell_jpy = int(now_ticker.get('buy', '0'))\n",
    "        now_buy_jpy = int(now_ticker.get('sell', '1'))\n",
    "        # comment out to speed up\n",
    "        fsh.write(f'BUY ETH for {now_buy_jpy} JPY: SELL ETH for {now_sell_jpy} JPY\\n')\n",
    "\n",
    "        if sample_number % BUY_RATE == 0 and bought_amount >= BUY_AMOUNT and now_sell_jpy > used_jpy/bought_amount:\n",
    "            please_sell_amount = BUY_AMOUNT\n",
    "            cooling_time = HAPPY_COOLING_TIME\n",
    "\n",
    "        if bought_amount != 0 and now_sell_jpy > used_jpy/bought_amount + MIN_UNIT_CC_GAIN_JPY:\n",
    "            please_sell_amount += bought_amount / BUY_AMOUNT // 2 * BUY_AMOUNT\n",
    "            cooling_time = HAPPY_COOLING_TIME\n",
    "\n",
    "        if sample_number % BUY_RATE == 0:\n",
    "            if bought_amount != 0 and now_sell_jpy < used_jpy/bought_amount - MAX_UNIT_CC_LOSS_JPY:\n",
    "                please_sell_amount = bought_amount / BUY_AMOUNT // 1 * BUY_AMOUNT\n",
    "                cooling_time = SAD_COOLING_TIME\n",
    "\n",
    "            if now_sell_jpy * bought_amount - used_jpy < -MAX_LOSS_JPY:\n",
    "                please_sell_amount = bought_amount / BUY_AMOUNT // 1 * BUY_AMOUNT\n",
    "                cooling_time = SAD_COOLING_TIME\n",
    "\n",
    "        if please_sell_amount > 0:\n",
    "            prv.order(\n",
    "                pair='eth_jpy', price=str(now_sell_jpy), amount=str(please_sell_amount), side='sell', order_type='market'\n",
    "            )\n",
    "\n",
    "            avg_jpy = used_jpy/bought_amount\n",
    "            diff_jpy = now_sell_jpy - avg_jpy\n",
    "            gained_jpy = diff_jpy * please_sell_amount\n",
    "            total_gained_jpy += gained_jpy\n",
    "            fth.write(\n",
    "                f'SOLD {please_sell_amount} ETH for {diff_jpy:.2f}={now_sell_jpy}-{avg_jpy:.2f} JPY：BUY ETH for {now_buy_jpy} JPY\\n'\n",
    "                f'GAINED {gained_jpy} JPY: GAINED {total_gained_jpy} JPY in total at {datetime.now()}\\n\\n'\n",
    "            )\n",
    "\n",
    "            sample_number = 0\n",
    "            buy_count = 0\n",
    "            sell_count += 1\n",
    "            bought_amount -= please_sell_amount\n",
    "            used_jpy -= avg_jpy * please_sell_amount\n",
    "            please_buy_amount = 0\n",
    "            please_sell_amount = 0\n",
    "\n",
    "            if sell_count == MAX_SELL_COUNT or total_gained_jpy < -MAX_TOTAL_LOSS_JPY:\n",
    "                sell_count = 0\n",
    "                cooling_time = HAPPY_COOLING_TIME\n",
    "                total_gained_jpy = 0\n",
    "                break\n",
    "\n",
    "            time.sleep(cooling_time/TEST_RATIO)\n",
    "            cooling_time = HAPPY_COOLING_TIME\n",
    "            continue\n",
    "\n",
    "        if sample_number % BUY_RATE == 0 and (bought_amount == 0 or now_buy_jpy < used_jpy/bought_amount) \\\n",
    "                and used_jpy + now_buy_jpy * BUY_AMOUNT <= MAX_USED_JPY:\n",
    "            buy_count += 1\n",
    "            please_buy_amount = BUY_AMOUNT\n",
    "\n",
    "        if bought_amount != 0 and now_buy_jpy < used_jpy/bought_amount - MIN_UNIT_CC_LOSS_JPY \\\n",
    "                and used_jpy + now_buy_jpy * bought_amount <= MAX_USED_JPY:\n",
    "            buy_count += 1\n",
    "            please_buy_amount = bought_amount / BUY_AMOUNT // 1 * BUY_AMOUNT\n",
    "\n",
    "        if please_buy_amount > 0:\n",
    "            prv.order(\n",
    "                pair='eth_jpy', price=str(now_buy_jpy), amount=str(please_buy_amount), side='buy', order_type='market'\n",
    "            )\n",
    "            fth.write(f'BOUGHT {please_buy_amount} ETH for {now_buy_jpy} JPY: SELL for {now_sell_jpy} JPY: NO.{buy_count} at {datetime.now()}\\n')\n",
    "            bought_amount += please_buy_amount\n",
    "            used_jpy += now_buy_jpy * please_buy_amount\n",
    "            please_buy_amount = 0\n",
    "        elif sample_number % BUY_RATE == 0:\n",
    "            fth.write(f'BOUGHT 0 ETH for {now_buy_jpy} JPY: SELL for {now_sell_jpy} JPY: NO.{buy_count} at {datetime.now()}\\n')\n",
    "\n",
    "        time.sleep(SAMPLE_INTERVAL/TEST_RATIO)\n",
    "        sample_number += 1"
   ]
  }
 ],
 "metadata": {
  "kernelspec": {
   "display_name": "Python 3",
   "language": "python",
   "name": "python3"
  },
  "language_info": {
   "codemirror_mode": {
    "name": "ipython",
    "version": 3
   },
   "file_extension": ".py",
   "mimetype": "text/x-python",
   "name": "python",
   "nbconvert_exporter": "python",
   "pygments_lexer": "ipython3",
   "version": "3.6.7"
  }
 },
 "nbformat": 4,
 "nbformat_minor": 4
}
