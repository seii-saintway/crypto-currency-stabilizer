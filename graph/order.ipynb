{
 "cells": [
  {
   "cell_type": "code",
   "execution_count": null,
   "metadata": {},
   "outputs": [],
   "source": [
    "from datetime import datetime\n",
    "import json, sys, time\n",
    "import python_bitbankcc"
   ]
  },
  {
   "cell_type": "code",
   "execution_count": null,
   "metadata": {},
   "outputs": [],
   "source": [
    "pub = python_bitbankcc.public()"
   ]
  },
  {
   "cell_type": "code",
   "execution_count": null,
   "metadata": {},
   "outputs": [],
   "source": [
    "import os\n",
    "prv = python_bitbankcc.private(\n",
    "    os.environ['BITBANK_API_KEY'],\n",
    "    os.environ['BITBANK_API_SECRET']\n",
    ")"
   ]
  },
  {
   "cell_type": "code",
   "execution_count": null,
   "metadata": {},
   "outputs": [],
   "source": [
    "WEBHOOK_URL = os.environ['SLACK_WEBHOOK_URL']\n",
    "CHANNEL_ID = os.environ['SLACK_CHANNEL_ID']"
   ]
  },
  {
   "cell_type": "code",
   "execution_count": null,
   "metadata": {},
   "outputs": [],
   "source": [
    "def send_slack(message, text, color='good'):\n",
    "    if color == 'good':\n",
    "        message = f':star-struck: {message}'\n",
    "    if color == 'danger':\n",
    "        message = f':rage: {message}'\n",
    "\n",
    "    import requests\n",
    "    requests.post(\n",
    "        WEBHOOK_URL,\n",
    "        json={\n",
    "            'channel': CHANNEL_ID,\n",
    "            'username': 'Trading Notifications',\n",
    "            'icon_url': 'https://ethereum.org/favicon-32x32.png',\n",
    "            'text': message,\n",
    "            'mrkdwn': True,\n",
    "            'attachments': [{\n",
    "                'title': '→ Trading Operations',\n",
    "                'title_link': 'https://jhub.name/user/sheng_wei/lab',\n",
    "                'text': text,\n",
    "                'color': color,\n",
    "            }]\n",
    "        }\n",
    "    )"
   ]
  },
  {
   "cell_type": "code",
   "execution_count": null,
   "metadata": {},
   "outputs": [],
   "source": [
    "keys = ('price', 'amount', 'side')\n",
    "completed = {\n",
    "    (sys.maxsize, 5, 'buy'): False,\n",
    "    (-sys.maxsize, 5, 'sell'): False\n",
    "}"
   ]
  },
  {
   "cell_type": "code",
   "execution_count": null,
   "metadata": {},
   "outputs": [],
   "source": [
    "send_slack(\n",
    "    f'Order confirmed', 'Power by https://jhub.name/', 'good'\n",
    ")"
   ]
  },
  {
   "cell_type": "code",
   "execution_count": null,
   "metadata": {},
   "outputs": [],
   "source": [
    "def try_to_trade():\n",
    "    now_ticker = pub.get_ticker('eth_jpy')\n",
    "    now_buy_jpy = int(now_ticker.get('sell', f'{sys.maxsize}'))\n",
    "    now_sell_jpy = int(now_ticker.get('buy', '0'))\n",
    "\n",
    "    all_completed = True\n",
    "    for vals in completed:\n",
    "        if not completed[vals]:\n",
    "            order = dict((keys[i], vals[i]) for i in range(3))\n",
    "            if order['side'] == 'buy' and now_buy_jpy < order['price']:\n",
    "                try:\n",
    "                    prv.order(\n",
    "                        pair='eth_jpy', price=str(now_buy_jpy), amount=str(order['amount']), side='buy', order_type='market'\n",
    "                    )\n",
    "                    completed[vals] = True\n",
    "                    send_slack(\n",
    "                        f'Succeeded to buy {order[\"amount\"]} for {now_buy_jpy} JPY', 'Power by https://jhub.name/', 'good'\n",
    "                    )\n",
    "                except Exception:\n",
    "                    send_slack(\n",
    "                        f'Failed to buy {order[\"amount\"]} for {now_buy_jpy} JPY', 'Power by https://jhub.name/', 'danger'\n",
    "                    )\n",
    "            if order['side'] == 'sell' and now_sell_jpy > order['price']:\n",
    "                try:\n",
    "                    prv.order(\n",
    "                        pair='eth_jpy', price=str(now_sell_jpy), amount=str(order['amount']), side='sell', order_type='market'\n",
    "                    )\n",
    "                    completed[vals] = True\n",
    "                    send_slack(\n",
    "                        f'Succeeded to sell {order[\"amount\"]} for {now_buy_jpy} JPY', 'Power by https://jhub.name/', 'good'\n",
    "                    )\n",
    "                except Exception:\n",
    "                    send_slack(\n",
    "                        f'Failed to sell {order[\"amount\"]} for {now_buy_jpy} JPY', 'Power by https://jhub.name/', 'danger'\n",
    "                    )\n",
    "        all_completed = all_completed and completed[vals]\n",
    "    return all_completed"
   ]
  },
  {
   "cell_type": "code",
   "execution_count": null,
   "metadata": {},
   "outputs": [],
   "source": [
    "while not try_to_trade():\n",
    "    time.sleep(60 * 5)"
   ]
  }
 ],
 "metadata": {
  "kernelspec": {
   "display_name": "Python 3",
   "language": "python",
   "name": "python3"
  },
  "language_info": {
   "codemirror_mode": {
    "name": "ipython",
    "version": 3
   },
   "file_extension": ".py",
   "mimetype": "text/x-python",
   "name": "python",
   "nbconvert_exporter": "python",
   "pygments_lexer": "ipython3",
   "version": "3.6.7"
  }
 },
 "nbformat": 4,
 "nbformat_minor": 4
}
