{
 "cells": [
  {
   "cell_type": "code",
   "execution_count": null,
   "metadata": {},
   "outputs": [],
   "source": [
    "TEST_RATIO = 1"
   ]
  },
  {
   "cell_type": "code",
   "execution_count": null,
   "metadata": {},
   "outputs": [],
   "source": [
    "SAMPLE_INTERVAL = 60\n",
    "SAMPLE_HISTORY_FILENAME = 'sample-history.txt'\n",
    "TRANSACTION_HISTORY_FILENAME = 'transaction-history.txt'"
   ]
  },
  {
   "cell_type": "code",
   "execution_count": null,
   "metadata": {},
   "outputs": [],
   "source": [
    "WEBHOOK_URL = 'https://hooks.slack.com/services/*********/*********/************************'\n",
    "CHANNEL_ID = '*********'"
   ]
  },
  {
   "cell_type": "code",
   "execution_count": null,
   "metadata": {},
   "outputs": [],
   "source": [
    "def send_slack(message, text, color='good'):\n",
    "    if color == 'good':\n",
    "        message = f':star-struck: {message}'\n",
    "    if color == 'danger':\n",
    "        message = f':rage: {message}'\n",
    "\n",
    "    import requests\n",
    "    requests.post(\n",
    "        WEBHOOK_URL,\n",
    "        json={\n",
    "            'channel': CHANNEL_ID,\n",
    "            'username': 'Trading Notifications',\n",
    "            'icon_url': 'https://ethereum.org/favicon-32x32.png',\n",
    "            'text': message,\n",
    "            'mrkdwn': True,\n",
    "            'attachments': [{\n",
    "                'title': '→ Trading Operations',\n",
    "                'title_link': 'https://jhub.name/user/sheng_wei/lab',\n",
    "                'text': text,\n",
    "                'color': color,\n",
    "            }]\n",
    "        }\n",
    "    )"
   ]
  },
  {
   "cell_type": "code",
   "execution_count": null,
   "metadata": {},
   "outputs": [],
   "source": [
    "UPPER_TRESHOLD = 1000\n",
    "BASE_TRESHOLD = 0"
   ]
  },
  {
   "cell_type": "code",
   "execution_count": null,
   "metadata": {},
   "outputs": [],
   "source": [
    "import re, time\n",
    "with open(SAMPLE_HISTORY_FILENAME, 'r') as fsh, open(TRANSACTION_HISTORY_FILENAME, 'r') as fth:\n",
    "    num = 1\n",
    "    print('\\n', end='')\n",
    "    while True:\n",
    "        sample_lines = fsh.readlines()[-3:-1]\n",
    "\n",
    "        res = None\n",
    "        for line in sample_lines:\n",
    "            res = re.search(r'^GAIN ((?:-|\\+)\\d+\\.?\\d*)=.+ JPY in total at (.+)\\n', line)\n",
    "            if res is not None:\n",
    "                break\n",
    "        if res is None:\n",
    "            time.sleep(SAMPLE_INTERVAL/TEST_RATIO/10)\n",
    "            continue\n",
    "\n",
    "        gain_jpy = float(res.group(1))\n",
    "\n",
    "        report_markdown = ''\n",
    "        samples = ''.join(sample_lines)\n",
    "        if samples != '':\n",
    "            report_markdown = f'{report_markdown}\\n```\\n{samples}```'\n",
    "            samples = f'{samples}\\n'\n",
    "        transactions = ''.join(fth.readlines()[-3:-1])\n",
    "        if transactions != '':\n",
    "            report_markdown = f'\\n{report_markdown}\\n```\\n{transactions}```'\n",
    "            transactions = f'{transactions}\\n'\n",
    "\n",
    "        if gain_jpy > UPPER_TRESHOLD:\n",
    "            send_slack(\n",
    "                f'Total Gain `{gain_jpy} JPY` > `{UPPER_TRESHOLD} JPY`: NO.{num} @ `{res.group(2)}`',\n",
    "                f'{report_markdown}\\nPower by https://jhub.name/',\n",
    "                'good'\n",
    "            )\n",
    "        if gain_jpy < BASE_TRESHOLD:\n",
    "            send_slack(\n",
    "                f'Total Gain `{gain_jpy} JPY` < `{BASE_TRESHOLD} JPY`: NO.{num} @ `{res.group(2)}`',\n",
    "                f'{report_markdown}\\nPower by https://jhub.name/',\n",
    "                'danger'\n",
    "            )\n",
    "\n",
    "        print(f'NO.{num}: {samples}{transactions}', end='')\n",
    "        time.sleep(SAMPLE_INTERVAL / TEST_RATIO / 2)\n",
    "        num += 1"
   ]
  }
 ],
 "metadata": {
  "kernelspec": {
   "display_name": "Python 3",
   "language": "python",
   "name": "python3"
  },
  "language_info": {
   "codemirror_mode": {
    "name": "ipython",
    "version": 3
   },
   "file_extension": ".py",
   "mimetype": "text/x-python",
   "name": "python",
   "nbconvert_exporter": "python",
   "pygments_lexer": "ipython3",
   "version": "3.6.7"
  }
 },
 "nbformat": 4,
 "nbformat_minor": 4
}
