{
 "cells": [
  {
   "cell_type": "markdown",
   "metadata": {},
   "source": [
    "* https://towardsdatascience.com/detection-of-price-support-and-resistance-levels-in-python-baedc44c34c9"
   ]
  },
  {
   "cell_type": "markdown",
   "metadata": {},
   "source": [
    "* https://dynamics-and-control.readthedocs.io/en/latest/1_Dynamics/1_Modelling/Equation%20solving%20tools.html\n",
    "* https://github.com/alchemyst/Dynamics-and-Control"
   ]
  },
  {
   "cell_type": "code",
   "execution_count": 1,
   "metadata": {},
   "outputs": [
    {
     "name": "stdout",
     "output_type": "stream",
     "text": [
      "7.344295907915817\n",
      "136\n"
     ]
    }
   ],
   "source": [
    "import numpy\n",
    "print(numpy.log2(260000 / 40000 / 0.04))\n",
    "print(480 // int(numpy.log2(260000 / 40000 / 0.04)) * 2)"
   ]
  },
  {
   "cell_type": "code",
   "execution_count": 2,
   "metadata": {},
   "outputs": [
    {
     "name": "stdout",
     "output_type": "stream",
     "text": [
      "7.965784284662087\n",
      "342\n"
     ]
    }
   ],
   "source": [
    "import numpy\n",
    "print(numpy.log2(400000 / 40000 / 0.04))\n",
    "print(1200 // int(numpy.log2(400000 / 40000 / 0.04)) * 2)"
   ]
  },
  {
   "cell_type": "code",
   "execution_count": 3,
   "metadata": {},
   "outputs": [
    {
     "name": "stdout",
     "output_type": "stream",
     "text": [
      "16.609640474436812\n",
      "624\n"
     ]
    }
   ],
   "source": [
    "import numpy\n",
    "print(numpy.log2(400000 / 40000 / 0.0001))\n",
    "print(5000 // int(numpy.log2(400000 / 40000 / 0.0001)) * 2)"
   ]
  },
  {
   "cell_type": "code",
   "execution_count": 4,
   "metadata": {},
   "outputs": [
    {
     "name": "stdout",
     "output_type": "stream",
     "text": [
      "6.643856189774724\n",
      "1666\n"
     ]
    }
   ],
   "source": [
    "BUY_AMOUNT = 0.1\n",
    "MAX_USED_JPY = 400000\n",
    "print(numpy.log2(MAX_USED_JPY / 40000 / BUY_AMOUNT))\n",
    "print(5000 // int(numpy.log2(MAX_USED_JPY / 40000 / BUY_AMOUNT)) * 2)"
   ]
  },
  {
   "cell_type": "markdown",
   "metadata": {},
   "source": [
    "## Calculate the Threshold for Adding Warehouse\n",
    "``` python\n",
    "M = 400000 / 40000 / 0.0001\n",
    "D = 5000\n",
    "(g + h * c) / (1 + c) - h == ( g + h * c - h * (1 + c) ) / (1 + c) == (g - h) / (1 + c)\n",
    "g - (g + h * c) / (1 + c) == (g - h) / (1 + c) * c\n",
    "(1 + c) ** n == M\n",
    "import math\n",
    "n == math.log(M, 1 + c)\n",
    "d == abs(g - h)\n",
    "D <= d / (1 + c) * c * n\n",
    "(1 + c) ** (D / d * (1 + c) / c) == M\n",
    "(1 + c) ** ((1 + c) / c) == M ** (d / D)\n",
    "d >= D / math.log(M, 1 + c) / c * (1 + c)\n",
    "d >= D * math.log(1 + c, M) / c * (1 + c)\n",
    "```"
   ]
  },
  {
   "cell_type": "code",
   "execution_count": 5,
   "metadata": {},
   "outputs": [
    {
     "name": "stdout",
     "output_type": "stream",
     "text": [
      "Requirement already satisfied: sympy in /opt/tljh/user/lib/python3.6/site-packages (1.6.2)\n",
      "Requirement already satisfied: mpmath>=0.19 in /opt/tljh/user/lib/python3.6/site-packages (from sympy) (1.1.0)\n"
     ]
    }
   ],
   "source": [
    "%%bash\n",
    "sudo -HE pip install sympy"
   ]
  },
  {
   "cell_type": "code",
   "execution_count": 6,
   "metadata": {},
   "outputs": [
    {
     "data": {
      "text/plain": [
       "0.0"
      ]
     },
     "execution_count": 6,
     "metadata": {},
     "output_type": "execute_result"
    }
   ],
   "source": [
    "M = 400000 / 40000 / 0.1\n",
    "D = 5000\n",
    "\n",
    "import sympy\n",
    "c_sym = sympy.Symbol('c')\n",
    "abs(complex(sympy.limit(D / sympy.log(M, 1 + c_sym) / c_sym * (1 + c_sym), c_sym, -1)))"
   ]
  },
  {
   "cell_type": "code",
   "execution_count": 7,
   "metadata": {},
   "outputs": [
    {
     "data": {
      "text/latex": [
       "$\\displaystyle \\frac{1085.73620475813 \\left(c + 1\\right) \\log{\\left(c + 1 \\right)}}{c}$"
      ],
      "text/plain": [
       "1085.73620475813*(c + 1)*log(c + 1)/c"
      ]
     },
     "execution_count": 7,
     "metadata": {},
     "output_type": "execute_result"
    }
   ],
   "source": [
    "import sympy\n",
    "c_sym = sympy.Symbol('c')\n",
    "(D / sympy.log(M, 1 + c_sym) / c_sym * (1 + c_sym)).subs({M: 400000 / 40000 / 0.1, D: 5000})"
   ]
  },
  {
   "cell_type": "code",
   "execution_count": 8,
   "metadata": {},
   "outputs": [
    {
     "data": {
      "text/plain": [
       "-3.47571723131338e-08"
      ]
     },
     "execution_count": 8,
     "metadata": {},
     "output_type": "execute_result"
    }
   ],
   "source": [
    "import math\n",
    "from scipy import optimize as opt\n",
    "\n",
    "M = 400000 / 40000 / 0.1\n",
    "D = 5000\n",
    "\n",
    "def c(d):\n",
    "    return opt.fsolve(lambda c: d - D / math.log(M, 1 + c) / c * (1 + c), -0.5)[0]\n",
    "\n",
    "c(D / math.log(M))"
   ]
  },
  {
   "cell_type": "code",
   "execution_count": 9,
   "metadata": {},
   "outputs": [
    {
     "data": {
      "text/plain": [
       "-3.47571723131338e-08"
      ]
     },
     "execution_count": 9,
     "metadata": {},
     "output_type": "execute_result"
    }
   ],
   "source": [
    "import math\n",
    "from scipy import optimize as opt\n",
    "\n",
    "M = 400000 / 40000 / 0.1\n",
    "D = 5000\n",
    "\n",
    "def c(d):\n",
    "    return opt.fsolve(lambda c: [d - D / math.log(M, 1 + c[0]) / c[0] * (1 + c[0])], [-0.5])[0]\n",
    "\n",
    "c(D / math.log(M))"
   ]
  },
  {
   "cell_type": "code",
   "execution_count": 10,
   "metadata": {},
   "outputs": [
    {
     "data": {
      "text/plain": [
       "-2.577654416769573e-06"
      ]
     },
     "execution_count": 10,
     "metadata": {},
     "output_type": "execute_result"
    }
   ],
   "source": [
    "import numpy.lib.scimath as math\n",
    "from scipy import optimize as opt\n",
    "\n",
    "M = 400000 / 40000 / 0.1\n",
    "D = 5000\n",
    "\n",
    "def c(d):\n",
    "    return opt.root(lambda c: d - D / math.log(M) * math.log(1 + c) / c * (1 + c), -0.5, method='lm').x[0]\n",
    "\n",
    "c(D / math.log(M))"
   ]
  },
  {
   "cell_type": "code",
   "execution_count": 11,
   "metadata": {},
   "outputs": [
    {
     "data": {
      "text/plain": [
       "-2.577654416769573e-06"
      ]
     },
     "execution_count": 11,
     "metadata": {},
     "output_type": "execute_result"
    }
   ],
   "source": [
    "import numpy.lib.scimath as math\n",
    "from scipy import optimize as opt\n",
    "\n",
    "M = 400000 / 40000 / 0.1\n",
    "D = 5000\n",
    "\n",
    "def c(d):\n",
    "    return opt.root(lambda c: [(d - D / math.log(M) * math.log(1 + c[0]) / c[0] * (1 + c[0])).real], [-0.5], method='lm').x[0]\n",
    "\n",
    "c(D / math.log(M))"
   ]
  },
  {
   "cell_type": "code",
   "execution_count": 12,
   "metadata": {},
   "outputs": [
    {
     "data": {
      "text/plain": [
       "-0.9999999998665055"
      ]
     },
     "execution_count": 12,
     "metadata": {},
     "output_type": "execute_result"
    }
   ],
   "source": [
    "import numpy.lib.scimath as math\n",
    "from scipy import optimize as opt\n",
    "\n",
    "M = 400000 / 40000 / 0.1\n",
    "D = 5000\n",
    "\n",
    "def c(d):\n",
    "    return opt.fsolve(lambda c: [(d - D / math.log(M) * math.log(1 + c[0]) / c[0] * (1 + c[0])).real], [-0.5])[0]\n",
    "\n",
    "c(0)"
   ]
  },
  {
   "cell_type": "code",
   "execution_count": 13,
   "metadata": {},
   "outputs": [
    {
     "data": {
      "text/plain": [
       "-7.21773782363743e-09"
      ]
     },
     "execution_count": 13,
     "metadata": {},
     "output_type": "execute_result"
    }
   ],
   "source": [
    "import numpy.lib.scimath as math\n",
    "from scipy import optimize as opt\n",
    "\n",
    "M = 400000 / 40000 / 0.1\n",
    "D = 5000\n",
    "\n",
    "def c(d):\n",
    "    return opt.fsolve(lambda c: [(d - D / math.log(M) * math.log(1 + c[0]) / c[0] * (1 + c[0])).real], [-0.5])[0]\n",
    "\n",
    "c(D / math.log(M))"
   ]
  },
  {
   "cell_type": "code",
   "execution_count": 14,
   "metadata": {},
   "outputs": [],
   "source": [
    "import matplotlib.pyplot as plt\n",
    "plt.close('all')"
   ]
  },
  {
   "cell_type": "code",
   "execution_count": 15,
   "metadata": {},
   "outputs": [
    {
     "data": {
      "text/plain": [
       "<matplotlib.collections.PolyCollection at 0x7f966f48c438>"
      ]
     },
     "execution_count": 15,
     "metadata": {},
     "output_type": "execute_result"
    },
    {
     "data": {
      "image/png": "[encoded data removed]",
      "text/plain": [
       "<Figure size 1440x480 with 3 Axes>"
      ]
     },
     "metadata": {
      "needs_background": "light"
     },
     "output_type": "display_data"
    }
   ],
   "source": [
    "import matplotlib.pyplot as plt\n",
    "plt.close('all')\n",
    "\n",
    "fig, (plt_a, plt_b, plt_c) = plt.subplots(1, 3, figsize=(18, 6), dpi=80)\n",
    "\n",
    "# ---\n",
    "M = 400000 / 40000 / 0.1\n",
    "D = 5000\n",
    "\n",
    "d0 = int(D / math.log(M))\n",
    "\n",
    "# ---\n",
    "plt_a.grid(True)\n",
    "plt_a.fill_between(\n",
    "    range(0, d0), [c(d) for d in range(0, d0)], [-1 for d in range(0, d0)],\n",
    "    edgecolor='blue', linewidth=0.8, facecolor='green'\n",
    ")\n",
    "plt_a.fill_between(\n",
    "    range(d0, 2000), [0 for d in range(d0, 2000)], [-1 for d in range(d0, 2000)],\n",
    "    edgecolor='blue', linewidth=0.8, facecolor='green'\n",
    ")\n",
    "plt_a.fill_between(\n",
    "    range(d0, 2000), [c(d) for d in range(d0, 2000)], [0 for d in range(d0, 2000)],\n",
    "    edgecolor='blue', linewidth=0.8, facecolor='red'\n",
    ")\n",
    "\n",
    "# ---\n",
    "M = 400000 / 40000 / 0.01\n",
    "D = 5000\n",
    "\n",
    "d0 = int(D / math.log(M))\n",
    "\n",
    "# ---\n",
    "plt_b.grid(True)\n",
    "plt_b.fill_between(\n",
    "    range(0, d0), [c(d) for d in range(0, d0)], [-1 for d in range(0, d0)],\n",
    "    edgecolor='blue', linewidth=0.8, facecolor='green'\n",
    ")\n",
    "plt_b.fill_between(\n",
    "    range(d0, 1400), [0 for d in range(d0, 1400)], [-1 for d in range(d0, 1400)],\n",
    "    edgecolor='blue', linewidth=0.8, facecolor='green'\n",
    ")\n",
    "plt_b.fill_between(\n",
    "    range(d0, 1400), [c(d) for d in range(d0, 1400)], [0 for d in range(d0, 1400)],\n",
    "    edgecolor='blue', linewidth=0.8, facecolor='red'\n",
    ")\n",
    "\n",
    "# ---\n",
    "M = 400000 / 40000 / 0.001\n",
    "D = 5000\n",
    "\n",
    "d0 = int(D / math.log(M))\n",
    "\n",
    "# ---\n",
    "plt_c.grid(True)\n",
    "plt_c.fill_between(\n",
    "    range(0, d0), [c(d) for d in range(0, d0)], [-1 for d in range(0, d0)],\n",
    "    edgecolor='blue', linewidth=0.8, facecolor='green'\n",
    ")\n",
    "plt_c.fill_between(\n",
    "    range(d0, 1000), [0 for d in range(d0, 1000)], [-1 for d in range(d0, 1000)],\n",
    "    edgecolor='blue', linewidth=0.8, facecolor='green'\n",
    ")\n",
    "plt_c.fill_between(\n",
    "    range(d0, 1000), [c(d) for d in range(d0, 1000)], [0 for d in range(d0, 1000)],\n",
    "    edgecolor='blue', linewidth=0.8, facecolor='red'\n",
    ")"
   ]
  },
  {
   "cell_type": "code",
   "execution_count": 16,
   "metadata": {},
   "outputs": [
    {
     "data": {
      "text/plain": [
       "[<matplotlib.lines.Line2D at 0x7f966f42d518>]"
      ]
     },
     "execution_count": 16,
     "metadata": {},
     "output_type": "execute_result"
    },
    {
     "data": {
      "image/png": "[encoded data removed]",
      "text/plain": [
       "<Figure size 1440x480 with 3 Axes>"
      ]
     },
     "metadata": {
      "needs_background": "light"
     },
     "output_type": "display_data"
    }
   ],
   "source": [
    "import matplotlib.pyplot as plt\n",
    "plt.close('all')\n",
    "\n",
    "fig, (plt_a, plt_b, plt_c) = plt.subplots(1, 3, figsize=(18, 6), dpi=80)\n",
    "\n",
    "# ---\n",
    "M = 800000 / 40000 / 0.0001\n",
    "D = 3000\n",
    "\n",
    "# ---\n",
    "plt_a.grid(True)\n",
    "plt_a.plot(range(0, 500), [c(d) for d in range(0, 500)], 'b-', linewidth=0.8)\n",
    "\n",
    "# ---\n",
    "M = 800000 / 40000 / 0.0001\n",
    "D = 5000\n",
    "\n",
    "# ---\n",
    "plt_b.grid(True)\n",
    "plt_b.plot(range(0, 800), [c(d) for d in range(0, 800)], 'b-', linewidth=0.8)\n",
    "\n",
    "# ---\n",
    "M = 800000 / 40000 / 0.0001\n",
    "D = 10000\n",
    "\n",
    "# ---\n",
    "plt_c.grid(True)\n",
    "plt_c.plot(range(0, 1600), [c(d) for d in range(0, 1600)], 'b-', linewidth=0.8)"
   ]
  },
  {
   "cell_type": "code",
   "execution_count": 17,
   "metadata": {},
   "outputs": [
    {
     "data": {
      "text/plain": [
       "[<matplotlib.lines.Line2D at 0x7f966f2d9e80>]"
      ]
     },
     "execution_count": 17,
     "metadata": {},
     "output_type": "execute_result"
    },
    {
     "data": {
      "image/png": "[encoded data removed]",
      "text/plain": [
       "<Figure size 1440x480 with 3 Axes>"
      ]
     },
     "metadata": {
      "needs_background": "light"
     },
     "output_type": "display_data"
    }
   ],
   "source": [
    "import numpy.lib.scimath as math\n",
    "from scipy import optimize as opt\n",
    "\n",
    "def c(d):\n",
    "    return opt.fsolve(lambda c: [(d - D / math.log(M) * math.log(1 + c[0]) / c[0] * (1 + c[0])).real], [-0.5])[0]\n",
    "\n",
    "# ---\n",
    "import matplotlib.pyplot as plt\n",
    "plt.close('all')\n",
    "\n",
    "fig, (plt_a, plt_b, plt_c) = plt.subplots(1, 3, figsize=(18, 6), dpi=80)\n",
    "\n",
    "# ---\n",
    "M = 800000 / 40000 / 0.01\n",
    "D = 3000\n",
    "d_max = int(D / math.log(M) * 2)\n",
    "\n",
    "# ---\n",
    "plt_a.grid(True)\n",
    "plt_a.plot(range(0, d_max), [c(d) for d in range(0, d_max)], 'b-', linewidth=0.8)\n",
    "\n",
    "# ---\n",
    "M = 800000 / 40000 / 0.01\n",
    "D = 5000\n",
    "d_max = int(D / math.log(M) * 2)\n",
    "\n",
    "# ---\n",
    "plt_b.grid(True)\n",
    "plt_b.plot(range(0, d_max), [c(d) for d in range(0, d_max)], 'b-', linewidth=0.8)\n",
    "\n",
    "# ---\n",
    "M = 800000 / 40000 / 0.01\n",
    "D = 10000\n",
    "d_max = int(D / math.log(M) * 2)\n",
    "\n",
    "# ---\n",
    "plt_c.grid(True)\n",
    "plt_c.plot(range(0, d_max), [c(d) for d in range(0, d_max)], 'b-', linewidth=0.8)"
   ]
  },
  {
   "cell_type": "code",
   "execution_count": 18,
   "metadata": {},
   "outputs": [
    {
     "data": {
      "text/plain": [
       "[<matplotlib.lines.Line2D at 0x7f966ea9f5c0>]"
      ]
     },
     "execution_count": 18,
     "metadata": {},
     "output_type": "execute_result"
    },
    {
     "data": {
      "image/png": "[encoded data removed]",
      "text/plain": [
       "<Figure size 1440x480 with 3 Axes>"
      ]
     },
     "metadata": {
      "needs_background": "light"
     },
     "output_type": "display_data"
    }
   ],
   "source": [
    "import numpy.lib.scimath as math\n",
    "from scipy import optimize as opt\n",
    "\n",
    "def c(d):\n",
    "    return opt.fsolve(lambda c: [(d - D / math.log(M) * math.log(1 + c[0]) / c[0] * (1 + c[0])).real], [-0.5])[0]\n",
    "\n",
    "# ---\n",
    "import matplotlib.pyplot as plt\n",
    "plt.close('all')\n",
    "\n",
    "fig, (plt_a, plt_b, plt_c) = plt.subplots(1, 3, figsize=(18, 6), dpi=80)\n",
    "\n",
    "# ---\n",
    "M = 800000 / 40000 / 0.1\n",
    "D = 3000\n",
    "\n",
    "# ---\n",
    "plt_a.grid(True)\n",
    "plt_a.plot(range(0, 1000), [c(d) for d in range(0, 1000)], 'b-', linewidth=0.8)\n",
    "\n",
    "# ---\n",
    "M = 800000 / 40000 / 0.1\n",
    "D = 5000\n",
    "\n",
    "# ---\n",
    "plt_b.grid(True)\n",
    "plt_b.plot(range(0, 1600), [c(d) for d in range(0, 1600)], 'b-', linewidth=0.8)\n",
    "\n",
    "# ---\n",
    "M = 800000 / 40000 / 0.1\n",
    "D = 10000\n",
    "\n",
    "# ---\n",
    "plt_c.grid(True)\n",
    "plt_c.plot(range(0, 3200), [c(d) for d in range(0, 3200)], 'b-', linewidth=0.8)"
   ]
  },
  {
   "cell_type": "code",
   "execution_count": null,
   "metadata": {},
   "outputs": [],
   "source": []
  },
  {
   "cell_type": "code",
   "execution_count": 19,
   "metadata": {},
   "outputs": [],
   "source": [
    "import sympy\n",
    "M, D, c, d = sympy.symbols('M, D, c, d')\n",
    "f1 = M - 400000 / 40000 / 0.1\n",
    "f2 = D - 5000\n",
    "f3 = d - D * sympy.log(1 + c, M) / c * (1 + c)\n",
    "f4 = d - 600\n",
    "# sympy.solve([f1, f2, f3, f4])"
   ]
  },
  {
   "cell_type": "code",
   "execution_count": 20,
   "metadata": {},
   "outputs": [
    {
     "data": {
      "text/latex": [
       "$\\displaystyle \\frac{D}{\\log{\\left(M \\right)}}$"
      ],
      "text/plain": [
       "D/log(M)"
      ]
     },
     "execution_count": 20,
     "metadata": {},
     "output_type": "execute_result"
    }
   ],
   "source": [
    "import sympy\n",
    "M, D, c = sympy.symbols('M, D, c')\n",
    "d = D / sympy.log(M, 1 + c) / c * (1 + c)\n",
    "d0 = sympy.limit(d, c, 0)\n",
    "d0"
   ]
  },
  {
   "cell_type": "code",
   "execution_count": 21,
   "metadata": {},
   "outputs": [
    {
     "data": {
      "text/latex": [
       "$\\displaystyle \\frac{D}{\\log{\\left(M \\right)}}$"
      ],
      "text/plain": [
       "D/log(M)"
      ]
     },
     "execution_count": 21,
     "metadata": {},
     "output_type": "execute_result"
    }
   ],
   "source": [
    "import sympy\n",
    "M, D, c = sympy.symbols('M, D, c')\n",
    "d = D * sympy.log(1 + c, M) / c * (1 + c)\n",
    "d0 = sympy.limit(d, c, 0)\n",
    "d0"
   ]
  },
  {
   "cell_type": "code",
   "execution_count": 22,
   "metadata": {},
   "outputs": [
    {
     "data": {
      "text/latex": [
       "$\\displaystyle 0$"
      ],
      "text/plain": [
       "0"
      ]
     },
     "execution_count": 22,
     "metadata": {},
     "output_type": "execute_result"
    }
   ],
   "source": [
    "import sympy\n",
    "M, D, c = sympy.symbols('M, D, c')\n",
    "d = D * sympy.log(1 + c, M) / c * (1 + c)\n",
    "d0 = sympy.limit(d, c, -1)\n",
    "d0"
   ]
  },
  {
   "cell_type": "code",
   "execution_count": 23,
   "metadata": {},
   "outputs": [
    {
     "data": {
      "text/plain": [
       "sympy.core.symbol.Symbol"
      ]
     },
     "execution_count": 23,
     "metadata": {},
     "output_type": "execute_result"
    }
   ],
   "source": [
    "type(c)"
   ]
  },
  {
   "cell_type": "code",
   "execution_count": 24,
   "metadata": {},
   "outputs": [
    {
     "data": {
      "text/plain": [
       "sympy.core.numbers.Zero"
      ]
     },
     "execution_count": 24,
     "metadata": {},
     "output_type": "execute_result"
    }
   ],
   "source": [
    "type(d0)"
   ]
  },
  {
   "cell_type": "code",
   "execution_count": 25,
   "metadata": {},
   "outputs": [
    {
     "name": "stdout",
     "output_type": "stream",
     "text": [
      "0\n"
     ]
    }
   ],
   "source": [
    "print(d0)"
   ]
  },
  {
   "cell_type": "code",
   "execution_count": 26,
   "metadata": {},
   "outputs": [
    {
     "data": {
      "text/latex": [
       "$\\displaystyle 0$"
      ],
      "text/plain": [
       "0"
      ]
     },
     "execution_count": 26,
     "metadata": {},
     "output_type": "execute_result"
    }
   ],
   "source": [
    "sympy.limit(sympy.limit(d0, M, 400000 / 40000 / 0.1), D, 2000)"
   ]
  },
  {
   "cell_type": "code",
   "execution_count": 27,
   "metadata": {},
   "outputs": [
    {
     "data": {
      "text/plain": [
       "434.2944819032518"
      ]
     },
     "execution_count": 27,
     "metadata": {},
     "output_type": "execute_result"
    }
   ],
   "source": [
    "Mn = 400000 / 40000 / 0.1\n",
    "Dn = 2000\n",
    "\n",
    "import numpy\n",
    "# numpy.info(numpy.log)\n",
    "Dn / numpy.log(Mn)"
   ]
  },
  {
   "cell_type": "code",
   "execution_count": 28,
   "metadata": {},
   "outputs": [
    {
     "data": {
      "text/latex": [
       "$\\displaystyle 434.511556797911$"
      ],
      "text/plain": [
       "434.511556797911"
      ]
     },
     "execution_count": 28,
     "metadata": {},
     "output_type": "execute_result"
    }
   ],
   "source": [
    "sympy.limit(sympy.limit(sympy.limit(d, c, 0.001), M, 400000 / 40000 / 0.1), D, 2000)"
   ]
  },
  {
   "cell_type": "code",
   "execution_count": 29,
   "metadata": {},
   "outputs": [
    {
     "data": {
      "text/latex": [
       "$\\displaystyle 436.4587520469$"
      ],
      "text/plain": [
       "436.458752046900"
      ]
     },
     "execution_count": 29,
     "metadata": {},
     "output_type": "execute_result"
    }
   ],
   "source": [
    "sympy.limit(sympy.limit(sympy.limit(d, c, 0.01), M, 400000 / 40000 / 0.1), D, 2000)"
   ]
  },
  {
   "cell_type": "code",
   "execution_count": 30,
   "metadata": {},
   "outputs": [
    {
     "data": {
      "text/latex": [
       "$\\displaystyle 455.319536740476$"
      ],
      "text/plain": [
       "455.319536740476"
      ]
     },
     "execution_count": 30,
     "metadata": {},
     "output_type": "execute_result"
    }
   ],
   "source": [
    "sympy.limit(sympy.limit(sympy.limit(d, c, 0.1), M, 400000 / 40000 / 0.1), D, 2000)"
   ]
  },
  {
   "cell_type": "code",
   "execution_count": null,
   "metadata": {},
   "outputs": [],
   "source": []
  },
  {
   "cell_type": "code",
   "execution_count": 31,
   "metadata": {},
   "outputs": [],
   "source": [
    "import matplotlib.pyplot as plt\n",
    "plt.close('all')"
   ]
  },
  {
   "cell_type": "code",
   "execution_count": 32,
   "metadata": {},
   "outputs": [
    {
     "data": {
      "text/plain": [
       "<matplotlib.collections.PolyCollection at 0x7f966e7916d8>"
      ]
     },
     "execution_count": 32,
     "metadata": {},
     "output_type": "execute_result"
    },
    {
     "data": {
      "image/png": "[encoded data removed]",
      "text/plain": [
       "<Figure size 1440x480 with 3 Axes>"
      ]
     },
     "metadata": {
      "needs_background": "light"
     },
     "output_type": "display_data"
    }
   ],
   "source": [
    "import matplotlib.pyplot as plt\n",
    "plt.close('all')\n",
    "\n",
    "fig, (plt_a, plt_b, plt_c) = plt.subplots(1, 3, figsize=(18, 6), dpi=80)\n",
    "\n",
    "import math\n",
    "import numpy as np\n",
    "\n",
    "# ---\n",
    "M = 400000 / 40000 / 0.1\n",
    "D = 5000\n",
    "d_max = int(D / math.log(M) * 2)\n",
    "\n",
    "# ---\n",
    "plt_a.grid(True)\n",
    "\n",
    "c_array = np.arange(-0.9995, 0.0005, 0.001)\n",
    "plt_a.fill_between(\n",
    "    c_array, [D / math.log(M, (1 + c)) / c * (1 + c) for c in c_array], [d_max for i in c_array],\n",
    "    edgecolor='blue', linewidth=0.8, facecolor='green'\n",
    ")\n",
    "\n",
    "c_array = np.arange(0.0005, 2.0005, 0.001)\n",
    "plt_a.fill_between(\n",
    "    c_array, [D / math.log(M, (1 + c)) / c * (1 + c) for c in c_array], [d_max for i in c_array],\n",
    "    edgecolor='blue', linewidth=0.8, facecolor='red'\n",
    ")\n",
    "\n",
    "# ---\n",
    "M = 400000 / 40000 / 0.01\n",
    "D = 5000\n",
    "d_max = int(D / math.log(M) * 2)\n",
    "\n",
    "# ---\n",
    "plt_b.grid(True)\n",
    "\n",
    "c_array = np.arange(-0.9995, 0.0005, 0.001)\n",
    "plt_b.fill_between(\n",
    "    c_array, [D / math.log(M, (1 + c)) / c * (1 + c) for c in c_array], [d_max for i in c_array],\n",
    "    edgecolor='blue', linewidth=0.8, facecolor='green'\n",
    ")\n",
    "\n",
    "c_array = np.arange(0.0005, 2.0005, 0.001)\n",
    "plt_b.fill_between(\n",
    "    c_array, [D / math.log(M, (1 + c)) / c * (1 + c) for c in c_array], [d_max for i in c_array],\n",
    "    edgecolor='blue', linewidth=0.8, facecolor='red'\n",
    ")\n",
    "\n",
    "# ---\n",
    "M = 400000 / 40000 / 0.001\n",
    "D = 5000\n",
    "d_max = int(D / math.log(M) * 2)\n",
    "\n",
    "# ---\n",
    "plt_c.grid(True)\n",
    "\n",
    "c_array = np.arange(-0.9995, 0.0005, 0.001)\n",
    "plt_c.fill_between(\n",
    "    c_array, [D / math.log(M, (1 + c)) / c * (1 + c) for c in c_array], [d_max for i in c_array],\n",
    "    edgecolor='blue', linewidth=0.8, facecolor='green'\n",
    ")\n",
    "\n",
    "c_array = np.arange(0.0005, 2.0005, 0.001)\n",
    "plt_c.fill_between(\n",
    "    c_array, [D / math.log(M, (1 + c)) / c * (1 + c) for c in c_array], [d_max for i in c_array],\n",
    "    edgecolor='blue', linewidth=0.8, facecolor='red'\n",
    ")"
   ]
  },
  {
   "cell_type": "code",
   "execution_count": 33,
   "metadata": {},
   "outputs": [
    {
     "data": {
      "text/plain": [
       "[<matplotlib.lines.Line2D at 0x7f966e6b6cc0>]"
      ]
     },
     "execution_count": 33,
     "metadata": {},
     "output_type": "execute_result"
    },
    {
     "data": {
      "image/png": "[encoded data removed]",
      "text/plain": [
       "<Figure size 1440x480 with 3 Axes>"
      ]
     },
     "metadata": {
      "needs_background": "light"
     },
     "output_type": "display_data"
    }
   ],
   "source": [
    "import matplotlib.pyplot as plt\n",
    "plt.close('all')\n",
    "\n",
    "fig, (plt_a, plt_b, plt_c) = plt.subplots(1, 3, figsize=(18, 6), dpi=80)\n",
    "\n",
    "# ---\n",
    "M = 400000 / 40000 / 0.1\n",
    "D = 2000\n",
    "\n",
    "# ---\n",
    "import numpy as np\n",
    "c_array = np.arange(-0.9995, 2.0005, 0.001)\n",
    "\n",
    "import math\n",
    "d_array = [D / math.log(M, (1 + c)) / c * (1 + c) for c in c_array]\n",
    "\n",
    "plt_a.grid(True)\n",
    "plt_a.plot(c_array, d_array, 'b-', linewidth=0.8)\n",
    "\n",
    "# ---\n",
    "M = 400000 / 35000 / 0.1\n",
    "D = 2000\n",
    "\n",
    "# ---\n",
    "import numpy as np\n",
    "c_array = np.arange(-0.9995, 2.0005, 0.001)\n",
    "\n",
    "import math\n",
    "d_array = [D / math.log(M, (1 + c)) / c * (1 + c) for c in c_array]\n",
    "\n",
    "plt_b.grid(True)\n",
    "plt_b.plot(c_array, d_array, 'b-', linewidth=0.8)\n",
    "\n",
    "# ---\n",
    "M = 800000 / 35000 / 0.1\n",
    "D = 2000\n",
    "\n",
    "# ---\n",
    "import numpy as np\n",
    "c_array = np.arange(-0.9995, 2.0005, 0.001)\n",
    "\n",
    "import math\n",
    "d_array = [D / math.log(M, (1 + c)) / c * (1 + c) for c in c_array]\n",
    "\n",
    "plt_c.grid(True)\n",
    "plt_c.plot(c_array, d_array, 'b-', linewidth=0.8)"
   ]
  },
  {
   "cell_type": "code",
   "execution_count": 34,
   "metadata": {},
   "outputs": [
    {
     "data": {
      "text/plain": [
       "[<matplotlib.lines.Line2D at 0x7f966e57d5c0>]"
      ]
     },
     "execution_count": 34,
     "metadata": {},
     "output_type": "execute_result"
    },
    {
     "data": {
      "image/png": "[encoded data removed]",
      "text/plain": [
       "<Figure size 1440x480 with 3 Axes>"
      ]
     },
     "metadata": {
      "needs_background": "light"
     },
     "output_type": "display_data"
    }
   ],
   "source": [
    "import matplotlib.pyplot as plt\n",
    "plt.close('all')\n",
    "\n",
    "fig, (plt_a, plt_b, plt_c) = plt.subplots(1, 3, figsize=(18, 6), dpi=80)\n",
    "\n",
    "# ---\n",
    "M = 800000 / 40000 / 0.1\n",
    "D = 2000\n",
    "\n",
    "# ---\n",
    "import numpy as np\n",
    "c_array = np.arange(-0.9995, 2.0005, 0.001)\n",
    "\n",
    "import math\n",
    "d_array = [D / math.log(M, (1 + c)) / c * (1 + c) for c in c_array]\n",
    "\n",
    "plt_a.grid(True)\n",
    "plt_a.plot(c_array, d_array, 'b-', linewidth=0.8)\n",
    "\n",
    "# ---\n",
    "M = 800000 / 40000 / 0.01\n",
    "D = 2000\n",
    "\n",
    "# ---\n",
    "import numpy as np\n",
    "c_array = np.arange(-0.9995, 2.0005, 0.001)\n",
    "\n",
    "import math\n",
    "d_array = [D / math.log(M, (1 + c)) / c * (1 + c) for c in c_array]\n",
    "\n",
    "plt_b.grid(True)\n",
    "plt_b.plot(c_array, d_array, 'b-', linewidth=0.8)\n",
    "\n",
    "# ---\n",
    "M = 800000 / 40000 / 0.001\n",
    "D = 2000\n",
    "\n",
    "# ---\n",
    "import numpy as np\n",
    "c_array = np.arange(-0.9995, 2.0005, 0.001)\n",
    "\n",
    "import math\n",
    "d_array = [D / math.log(M, (1 + c)) / c * (1 + c) for c in c_array]\n",
    "\n",
    "plt_c.grid(True)\n",
    "plt_c.plot(c_array, d_array, 'b-', linewidth=0.8)"
   ]
  },
  {
   "cell_type": "code",
   "execution_count": 35,
   "metadata": {},
   "outputs": [
    {
     "data": {
      "text/plain": [
       "[<matplotlib.lines.Line2D at 0x7f966e4a3e80>]"
      ]
     },
     "execution_count": 35,
     "metadata": {},
     "output_type": "execute_result"
    },
    {
     "data": {
      "image/png": "[encoded data removed]",
      "text/plain": [
       "<Figure size 1280x640 with 1 Axes>"
      ]
     },
     "metadata": {
      "needs_background": "light"
     },
     "output_type": "display_data"
    }
   ],
   "source": [
    "M = 800000 / 40000 / 0.1\n",
    "D = 2000\n",
    "\n",
    "import numpy as np\n",
    "c_array = np.arange(0.1, 2, 0.1)\n",
    "\n",
    "import math\n",
    "d_array = [D / math.log(M, (1 + c)) / c for c in c_array]\n",
    "\n",
    "import matplotlib.pyplot as plt\n",
    "plt.close('all')\n",
    "\n",
    "plt.figure(figsize=(16, 8), dpi=80)\n",
    "plt.grid(True)\n",
    "\n",
    "plt.plot(c_array, d_array, 'b-', linewidth=0.8)"
   ]
  },
  {
   "cell_type": "code",
   "execution_count": 36,
   "metadata": {},
   "outputs": [
    {
     "data": {
      "text/plain": [
       "[<matplotlib.lines.Line2D at 0x7f966e4c6da0>]"
      ]
     },
     "execution_count": 36,
     "metadata": {},
     "output_type": "execute_result"
    },
    {
     "data": {
      "image/png": "[encoded data removed]",
      "text/plain": [
       "<Figure size 1280x640 with 1 Axes>"
      ]
     },
     "metadata": {
      "needs_background": "light"
     },
     "output_type": "display_data"
    }
   ],
   "source": [
    "M = 800000 / 40000 / 0.1\n",
    "D = 2000\n",
    "\n",
    "import numpy as np\n",
    "c_array = np.arange(0.1, 2, 0.1)\n",
    "\n",
    "import math\n",
    "d_array = [D / int(math.log(M, (1 + c))) / c * (1 + c) for c in c_array]\n",
    "\n",
    "import matplotlib.pyplot as plt\n",
    "plt.close('all')\n",
    "\n",
    "plt.figure(figsize=(16, 8), dpi=80)\n",
    "plt.grid(True)\n",
    "\n",
    "plt.plot(c_array, d_array, 'b-', linewidth=0.8)"
   ]
  },
  {
   "cell_type": "code",
   "execution_count": 37,
   "metadata": {},
   "outputs": [
    {
     "data": {
      "text/plain": [
       "[<matplotlib.lines.Line2D at 0x7f966e41bc18>]"
      ]
     },
     "execution_count": 37,
     "metadata": {},
     "output_type": "execute_result"
    },
    {
     "data": {
      "image/png": "[encoded data removed]",
      "text/plain": [
       "<Figure size 1280x640 with 1 Axes>"
      ]
     },
     "metadata": {
      "needs_background": "light"
     },
     "output_type": "display_data"
    }
   ],
   "source": [
    "M = 800000 / 40000 / 0.1\n",
    "D = 2000\n",
    "\n",
    "import numpy as np\n",
    "c_array = np.arange(0.1, 2, 0.1)\n",
    "\n",
    "import math\n",
    "d_array = [int(D / math.log(M, (1 + c)) / c * (1 + c)) for c in c_array]\n",
    "\n",
    "import matplotlib.pyplot as plt\n",
    "plt.close('all')\n",
    "\n",
    "plt.figure(figsize=(16, 8), dpi=80)\n",
    "plt.grid(True)\n",
    "\n",
    "plt.plot(c_array, d_array, 'b-', linewidth=0.8)"
   ]
  },
  {
   "cell_type": "code",
   "execution_count": 38,
   "metadata": {},
   "outputs": [
    {
     "name": "stdout",
     "output_type": "stream",
     "text": [
      "55.590256753535286\n",
      "319.0\n",
      "290.0\n"
     ]
    }
   ],
   "source": [
    "import math\n",
    "M = 800000 / 40000 / 0.1\n",
    "D = 39900 - 38300\n",
    "c = 0.1\n",
    "print(math.log(M, (1 + c)))\n",
    "print(D // int(math.log(M, (1 + c))) / c * (1 + c))\n",
    "print(D // int(math.log(M, (1 + c))) / c)"
   ]
  },
  {
   "cell_type": "code",
   "execution_count": 39,
   "metadata": {},
   "outputs": [
    {
     "name": "stdout",
     "output_type": "stream",
     "text": [
      "13.0672584658866\n",
      "369.0\n",
      "246.0\n"
     ]
    }
   ],
   "source": [
    "import math\n",
    "M = 800000 / 40000 / 0.1\n",
    "D = 39900 - 38300 # 39516 - 38177 = 1339\n",
    "c = 0.5\n",
    "print(math.log(M, (1 + c)))\n",
    "print(D // int(math.log(M, (1 + c))) / c * (1 + c))\n",
    "print(D // int(math.log(M, (1 + c))) / c)"
   ]
  },
  {
   "cell_type": "code",
   "execution_count": 40,
   "metadata": {},
   "outputs": [
    {
     "name": "stdout",
     "output_type": "stream",
     "text": [
      "18.746132053154174\n",
      "498.0\n",
      "332.0\n"
     ]
    }
   ],
   "source": [
    "import math\n",
    "M = 800000 / 40000 / 0.01\n",
    "D = 3000\n",
    "c = 0.5\n",
    "print(math.log(M, (1 + c)))\n",
    "print(D // int(math.log(M, (1 + c))) / c * (1 + c))\n",
    "print(D // int(math.log(M, (1 + c))) / c)"
   ]
  },
  {
   "cell_type": "code",
   "execution_count": 41,
   "metadata": {},
   "outputs": [
    {
     "name": "stdout",
     "output_type": "stream",
     "text": [
      "7.643856189774724\n",
      "456.0\n",
      "228.0\n"
     ]
    }
   ],
   "source": [
    "import math\n",
    "M = 800000 / 40000 / 0.1\n",
    "D = 39900 - 38300\n",
    "c = 1\n",
    "print(math.log(M, (1 + c)))\n",
    "print(D // int(math.log(M, (1 + c))) / c * (1 + c))\n",
    "print(D // int(math.log(M, (1 + c))) / c)"
   ]
  },
  {
   "cell_type": "code",
   "execution_count": 42,
   "metadata": {},
   "outputs": [
    {
     "name": "stdout",
     "output_type": "stream",
     "text": [
      "4.822736302150226\n",
      "600.0\n",
      "200.0\n"
     ]
    }
   ],
   "source": [
    "import math\n",
    "M = 800000 / 40000 / 0.1\n",
    "D = 39900 - 38300\n",
    "c = 2\n",
    "print(math.log(M, (1 + c)))\n",
    "print(D // int(math.log(M, (1 + c))) / c * (1 + c))\n",
    "print(D // int(math.log(M, (1 + c))) / c)"
   ]
  },
  {
   "cell_type": "code",
   "execution_count": null,
   "metadata": {},
   "outputs": [],
   "source": []
  },
  {
   "cell_type": "code",
   "execution_count": 43,
   "metadata": {},
   "outputs": [
    {
     "name": "stdout",
     "output_type": "stream",
     "text": [
      "13.0672584658866\n",
      "690.0\n",
      "460.0\n"
     ]
    }
   ],
   "source": [
    "import math\n",
    "M = 800000 / 40000 / 0.1\n",
    "D = 3000\n",
    "c = 0.5\n",
    "print(math.log(M, (1 + c)))\n",
    "print(D // int(math.log(M, (1 + c))) / c * (1 + c))\n",
    "print(D // int(math.log(M, (1 + c))) / c)"
   ]
  },
  {
   "cell_type": "code",
   "execution_count": 44,
   "metadata": {},
   "outputs": [
    {
     "name": "stdout",
     "output_type": "stream",
     "text": [
      "18.746132053154174\n",
      "498.0\n",
      "332.0\n"
     ]
    }
   ],
   "source": [
    "import math\n",
    "M = 800000 / 40000 / 0.01\n",
    "D = 3000\n",
    "c = 0.5\n",
    "print(math.log(M, (1 + c)))\n",
    "print(D // int(math.log(M, (1 + c))) / c * (1 + c))\n",
    "print(D // int(math.log(M, (1 + c))) / c)"
   ]
  },
  {
   "cell_type": "code",
   "execution_count": 45,
   "metadata": {},
   "outputs": [
    {
     "name": "stdout",
     "output_type": "stream",
     "text": [
      "24.425005640421745\n",
      "375.0\n",
      "250.0\n"
     ]
    }
   ],
   "source": [
    "import math\n",
    "M = 800000 / 40000 / 0.001\n",
    "D = 3000\n",
    "c = 0.5\n",
    "print(math.log(M, (1 + c)))\n",
    "print(D // int(math.log(M, (1 + c))) / c * (1 + c))\n",
    "print(D // int(math.log(M, (1 + c))) / c)"
   ]
  },
  {
   "cell_type": "code",
   "execution_count": 46,
   "metadata": {},
   "outputs": [
    {
     "name": "stdout",
     "output_type": "stream",
     "text": [
      "30.10387922768932\n",
      "300.0\n",
      "200.0\n"
     ]
    }
   ],
   "source": [
    "import math\n",
    "M = 800000 / 40000 / 0.0001\n",
    "D = 3000\n",
    "c = 0.5\n",
    "print(math.log(M, (1 + c)))\n",
    "print(D // int(math.log(M, (1 + c))) / c * (1 + c))\n",
    "print(D // int(math.log(M, (1 + c))) / c)"
   ]
  },
  {
   "cell_type": "code",
   "execution_count": null,
   "metadata": {},
   "outputs": [],
   "source": []
  },
  {
   "cell_type": "code",
   "execution_count": 47,
   "metadata": {},
   "outputs": [
    {
     "name": "stdout",
     "output_type": "stream",
     "text": [
      "451.00000000000006\n",
      "410.0\n"
     ]
    }
   ],
   "source": [
    "import math\n",
    "M = 400000 / 40000 / 0.0001\n",
    "D = 5000\n",
    "c = 0.1\n",
    "print(D // int(math.log(M, (1 + c))) / c * (1 + c))\n",
    "print(D // int(math.log(M, (1 + c))) / c)"
   ]
  },
  {
   "cell_type": "code",
   "execution_count": null,
   "metadata": {},
   "outputs": [],
   "source": []
  },
  {
   "cell_type": "code",
   "execution_count": 48,
   "metadata": {},
   "outputs": [
    {
     "name": "stdout",
     "output_type": "stream",
     "text": [
      "1362.0\n",
      "908.0\n"
     ]
    }
   ],
   "source": [
    "import math\n",
    "M = 400000 / 40000 / 0.1\n",
    "D = 5000\n",
    "c = 0.5\n",
    "print(D // int(math.log(M, (1 + c))) / c * (1 + c))\n",
    "print(D // int(math.log(M, (1 + c))) / c)"
   ]
  },
  {
   "cell_type": "code",
   "execution_count": 49,
   "metadata": {},
   "outputs": [
    {
     "name": "stdout",
     "output_type": "stream",
     "text": [
      "534.0\n",
      "356.0\n"
     ]
    }
   ],
   "source": [
    "import math\n",
    "M = 400000 / 40000 / 0.0001\n",
    "D = 5000\n",
    "c = 0.5\n",
    "print(D // int(math.log(M, (1 + c))) / c * (1 + c))\n",
    "print(D // int(math.log(M, (1 + c))) / c)"
   ]
  },
  {
   "cell_type": "code",
   "execution_count": 50,
   "metadata": {},
   "outputs": [
    {
     "name": "stdout",
     "output_type": "stream",
     "text": [
      "498.0\n",
      "332.0\n"
     ]
    }
   ],
   "source": [
    "import math\n",
    "M = 800000 / 40000 / 0.0001\n",
    "D = 5000\n",
    "c = 0.5\n",
    "print(D // int(math.log(M, (1 + c))) / c * (1 + c))\n",
    "print(D // int(math.log(M, (1 + c))) / c)"
   ]
  },
  {
   "cell_type": "code",
   "execution_count": null,
   "metadata": {},
   "outputs": [],
   "source": []
  },
  {
   "cell_type": "code",
   "execution_count": 51,
   "metadata": {},
   "outputs": [
    {
     "name": "stdout",
     "output_type": "stream",
     "text": [
      "11.357747174535147\n",
      "1877.3333333333333\n"
     ]
    }
   ],
   "source": [
    "import math\n",
    "M = 400000 / 40000 / 0.1\n",
    "d = 512\n",
    "c = 0.5\n",
    "print(math.log(M, (1 + c)))\n",
    "print(d / (1 + c) * c * int(math.log(M, (1 + c))))"
   ]
  },
  {
   "cell_type": "code",
   "execution_count": 52,
   "metadata": {},
   "outputs": [
    {
     "name": "stdout",
     "output_type": "stream",
     "text": [
      "28.394367936337865\n",
      "4778.666666666666\n"
     ]
    }
   ],
   "source": [
    "# 破了支撑之后转入最小额度交易\n",
    "import math\n",
    "M = 400000 / 40000 / 0.0001\n",
    "d = 512\n",
    "c = 0.5\n",
    "print(math.log(M, (1 + c)))\n",
    "print(d / (1 + c) * c * int(math.log(M, (1 + c))))"
   ]
  },
  {
   "cell_type": "code",
   "execution_count": 53,
   "metadata": {},
   "outputs": [
    {
     "name": "stdout",
     "output_type": "stream",
     "text": [
      "13.0672584658866\n",
      "2218.6666666666665\n"
     ]
    }
   ],
   "source": [
    "import math\n",
    "M = 800000 / 40000 / 0.1\n",
    "d = 512\n",
    "c = 0.5\n",
    "print(math.log(M, (1 + c)))\n",
    "print(d / (1 + c) * c * int(math.log(M, (1 + c))))"
   ]
  },
  {
   "cell_type": "code",
   "execution_count": 54,
   "metadata": {},
   "outputs": [
    {
     "name": "stdout",
     "output_type": "stream",
     "text": [
      "18.746132053154174\n",
      "3072.0\n"
     ]
    }
   ],
   "source": [
    "import math\n",
    "M = 800000 / 40000 / 0.01\n",
    "d = 512\n",
    "c = 0.5\n",
    "print(math.log(M, (1 + c)))\n",
    "print(d / (1 + c) * c * int(math.log(M, (1 + c))))"
   ]
  },
  {
   "cell_type": "code",
   "execution_count": 55,
   "metadata": {},
   "outputs": [
    {
     "name": "stdout",
     "output_type": "stream",
     "text": [
      "30.10387922768932\n",
      "5120.0\n"
     ]
    }
   ],
   "source": [
    "# 破了支撑之后转入最小额度交易\n",
    "import math\n",
    "M = 800000 / 40000 / 0.0001\n",
    "d = 512\n",
    "c = 0.5\n",
    "print(math.log(M, (1 + c)))\n",
    "print(d / (1 + c) * c * int(math.log(M, (1 + c))))"
   ]
  },
  {
   "cell_type": "code",
   "execution_count": null,
   "metadata": {},
   "outputs": [],
   "source": []
  },
  {
   "cell_type": "code",
   "execution_count": 56,
   "metadata": {},
   "outputs": [
    {
     "name": "stdout",
     "output_type": "stream",
     "text": [
      "624.0\n",
      "312.0\n"
     ]
    }
   ],
   "source": [
    "import math\n",
    "M = 400000 / 40000 / 0.0001\n",
    "D = 5000\n",
    "c = 1\n",
    "print(D // int(math.log(M, (1 + c))) / c * (1 + c))\n",
    "print(D // int(math.log(M, (1 + c))) / c)"
   ]
  },
  {
   "cell_type": "code",
   "execution_count": 57,
   "metadata": {},
   "outputs": [
    {
     "name": "stdout",
     "output_type": "stream",
     "text": [
      "6.643856189774725\n",
      "1200.0\n"
     ]
    }
   ],
   "source": [
    "import math\n",
    "M = 400000 / 40000 / 0.1\n",
    "d = 400\n",
    "c = 1\n",
    "print(math.log(M, (1 + c)))\n",
    "print(d / (1 + c) * c * int(math.log(M, (1 + c))))"
   ]
  },
  {
   "cell_type": "code",
   "execution_count": 58,
   "metadata": {},
   "outputs": [
    {
     "name": "stdout",
     "output_type": "stream",
     "text": [
      "6.643856189774725\n",
      "1536.0\n"
     ]
    }
   ],
   "source": [
    "import math\n",
    "M = 400000 / 40000 / 0.1\n",
    "d = 512\n",
    "c = 1\n",
    "print(math.log(M, (1 + c)))\n",
    "print(d / (1 + c) * c * int(math.log(M, (1 + c))))"
   ]
  },
  {
   "cell_type": "code",
   "execution_count": null,
   "metadata": {},
   "outputs": [],
   "source": []
  },
  {
   "cell_type": "code",
   "execution_count": 59,
   "metadata": {},
   "outputs": [
    {
     "name": "stdout",
     "output_type": "stream",
     "text": [
      "750.0\n",
      "250.0\n"
     ]
    }
   ],
   "source": [
    "import math\n",
    "M = 400000 / 40000 / 0.0001\n",
    "D = 5000\n",
    "c = 2\n",
    "print(D // int(math.log(M, (1 + c))) / c * (1 + c))\n",
    "print(D // int(math.log(M, (1 + c))) / c)"
   ]
  },
  {
   "cell_type": "code",
   "execution_count": null,
   "metadata": {},
   "outputs": [],
   "source": []
  },
  {
   "cell_type": "code",
   "execution_count": 60,
   "metadata": {},
   "outputs": [],
   "source": [
    "import matplotlib.pyplot as plt\n",
    "plt.close('all')"
   ]
  },
  {
   "cell_type": "code",
   "execution_count": 61,
   "metadata": {},
   "outputs": [
    {
     "data": {
      "text/plain": [
       "[<matplotlib.lines.Line2D at 0x7f966e3bb400>]"
      ]
     },
     "execution_count": 61,
     "metadata": {},
     "output_type": "execute_result"
    },
    {
     "data": {
      "image/png": "[encoded data removed]",
      "text/plain": [
       "<Figure size 1280x640 with 1 Axes>"
      ]
     },
     "metadata": {
      "needs_background": "light"
     },
     "output_type": "display_data"
    }
   ],
   "source": [
    "import matplotlib.pyplot as plt\n",
    "plt.close('all')\n",
    "\n",
    "plt.figure(figsize=(16, 8), dpi=80)\n",
    "plt.grid(True)\n",
    "\n",
    "N = 250\n",
    "plt.plot(range(2, N + 1), list(2 ** n / (2 ** (N + 1) - 2 ** n) for n in range(2, N + 1)), 'b-', linewidth=0.8)"
   ]
  },
  {
   "cell_type": "code",
   "execution_count": 62,
   "metadata": {},
   "outputs": [
    {
     "data": {
      "text/plain": [
       "[<matplotlib.lines.Line2D at 0x7f966e31e0b8>]"
      ]
     },
     "execution_count": 62,
     "metadata": {},
     "output_type": "execute_result"
    },
    {
     "data": {
      "image/png": "[encoded data removed]",
      "text/plain": [
       "<Figure size 1280x640 with 1 Axes>"
      ]
     },
     "metadata": {
      "needs_background": "light"
     },
     "output_type": "display_data"
    }
   ],
   "source": [
    "import matplotlib.pyplot as plt\n",
    "plt.close('all')\n",
    "\n",
    "plt.figure(figsize=(16, 8), dpi=80)\n",
    "plt.grid(True)\n",
    "\n",
    "A = 2\n",
    "N = 16\n",
    "plt.plot(range(2, N + 1), list((A ** (n + 1) - A ** n) / (A ** (N + 1) - A ** n) for n in range(2, N + 1)), 'b-', linewidth=0.8)"
   ]
  },
  {
   "cell_type": "code",
   "execution_count": 63,
   "metadata": {},
   "outputs": [
    {
     "data": {
      "text/plain": [
       "[<matplotlib.lines.Line2D at 0x7f966e34f2e8>]"
      ]
     },
     "execution_count": 63,
     "metadata": {},
     "output_type": "execute_result"
    },
    {
     "data": {
      "image/png": "[encoded data removed]",
      "text/plain": [
       "<Figure size 1280x640 with 1 Axes>"
      ]
     },
     "metadata": {
      "needs_background": "light"
     },
     "output_type": "display_data"
    }
   ],
   "source": [
    "import matplotlib.pyplot as plt\n",
    "plt.close('all')\n",
    "\n",
    "plt.figure(figsize=(16, 8), dpi=80)\n",
    "plt.grid(True)\n",
    "\n",
    "A = 1.5\n",
    "N = 16\n",
    "plt.plot(range(2, N + 1), list((A ** (n + 1) - A ** n) / (A ** (N + 1) - A ** n) for n in range(2, N + 1)), 'b-', linewidth=0.8)"
   ]
  },
  {
   "cell_type": "code",
   "execution_count": 64,
   "metadata": {},
   "outputs": [
    {
     "data": {
      "text/plain": [
       "[<matplotlib.lines.Line2D at 0x7f966e273320>]"
      ]
     },
     "execution_count": 64,
     "metadata": {},
     "output_type": "execute_result"
    },
    {
     "data": {
      "image/png": "[encoded data removed]",
      "text/plain": [
       "<Figure size 1280x640 with 1 Axes>"
      ]
     },
     "metadata": {
      "needs_background": "light"
     },
     "output_type": "display_data"
    }
   ],
   "source": [
    "import matplotlib.pyplot as plt\n",
    "plt.close('all')\n",
    "\n",
    "plt.figure(figsize=(16, 8), dpi=80)\n",
    "plt.grid(True)\n",
    "\n",
    "A = 1.5\n",
    "N = 16\n",
    "plt.plot(range(1, N + 1), list((A ** (n + 1) - A ** n) / (A ** (N + 1) - A ** n) for n in range(1, N + 1)), 'b-', linewidth=0.8)"
   ]
  },
  {
   "cell_type": "code",
   "execution_count": 65,
   "metadata": {},
   "outputs": [
    {
     "data": {
      "text/plain": [
       "[<matplotlib.lines.Line2D at 0x7f966e1d6be0>]"
      ]
     },
     "execution_count": 65,
     "metadata": {},
     "output_type": "execute_result"
    },
    {
     "data": {
      "image/png": "[encoded data removed]",
      "text/plain": [
       "<Figure size 1280x640 with 1 Axes>"
      ]
     },
     "metadata": {
      "needs_background": "light"
     },
     "output_type": "display_data"
    }
   ],
   "source": [
    "import matplotlib.pyplot as plt\n",
    "plt.close('all')\n",
    "\n",
    "plt.figure(figsize=(16, 8), dpi=80)\n",
    "plt.grid(True)\n",
    "\n",
    "A = 1.1\n",
    "N = 16\n",
    "plt.plot(range(2, N + 1), list((A ** (n + 1) - A ** n) / (A ** (N + 1) - A ** n) for n in range(2, N + 1)), 'b-', linewidth=0.8)"
   ]
  },
  {
   "cell_type": "code",
   "execution_count": 66,
   "metadata": {},
   "outputs": [
    {
     "data": {
      "text/plain": [
       "[<matplotlib.lines.Line2D at 0x7f966e1c4240>]"
      ]
     },
     "execution_count": 66,
     "metadata": {},
     "output_type": "execute_result"
    },
    {
     "data": {
      "image/png": "[encoded data removed]",
      "text/plain": [
       "<Figure size 1280x640 with 1 Axes>"
      ]
     },
     "metadata": {
      "needs_background": "light"
     },
     "output_type": "display_data"
    }
   ],
   "source": [
    "import matplotlib.pyplot as plt\n",
    "plt.close('all')\n",
    "\n",
    "plt.figure(figsize=(16, 8), dpi=80)\n",
    "plt.grid(True)\n",
    "\n",
    "A = 1.1\n",
    "N = 32\n",
    "plt.plot(range(2, N + 1), list((A ** (n + 1) - A ** n) / (A ** (N + 1) - A ** n) for n in range(2, N + 1)), 'b-', linewidth=0.8)"
   ]
  },
  {
   "cell_type": "code",
   "execution_count": 67,
   "metadata": {},
   "outputs": [
    {
     "name": "stdout",
     "output_type": "stream",
     "text": [
      "0\n"
     ]
    }
   ],
   "source": [
    "MAX_UNIT_CC_GAIN_JPY = 250\n",
    "A, N = 1.5, 16\n",
    "now_sell_jpy = 37556\n",
    "used_jpy = 37327 * 0.1\n",
    "bought_unit_amount = 1\n",
    "bought_amount = 0.1\n",
    "n = (now_sell_jpy - used_jpy/bought_amount) / (MAX_UNIT_CC_GAIN_JPY / N)\n",
    "please_sell_unit_amount = int(bought_unit_amount * (A - 1) / (A ** (N + 1 - n) - 1)) if n <= N else bought_unit_amount\n",
    "print(please_sell_unit_amount)"
   ]
  },
  {
   "cell_type": "code",
   "execution_count": 68,
   "metadata": {},
   "outputs": [
    {
     "name": "stdout",
     "output_type": "stream",
     "text": [
      "1\n"
     ]
    }
   ],
   "source": [
    "MAX_UNIT_CC_GAIN_JPY = 250\n",
    "A, N = 1.5, 16\n",
    "now_sell_jpy = 37596\n",
    "used_jpy = 37327 * 0.1\n",
    "bought_unit_amount = 1\n",
    "bought_amount = 0.1\n",
    "n = (now_sell_jpy - used_jpy/bought_amount) / (MAX_UNIT_CC_GAIN_JPY / N)\n",
    "please_sell_unit_amount = int(bought_unit_amount * (A - 1) / (A ** (N + 1 - n) - 1)) if n <= N else bought_unit_amount\n",
    "print(please_sell_unit_amount)"
   ]
  }
 ],
 "metadata": {
  "kernelspec": {
   "display_name": "Python 3",
   "language": "python",
   "name": "python3"
  },
  "language_info": {
   "codemirror_mode": {
    "name": "ipython",
    "version": 3
   },
   "file_extension": ".py",
   "mimetype": "text/x-python",
   "name": "python",
   "nbconvert_exporter": "python",
   "pygments_lexer": "ipython3",
   "version": "3.6.7"
  }
 },
 "nbformat": 4,
 "nbformat_minor": 4
}
