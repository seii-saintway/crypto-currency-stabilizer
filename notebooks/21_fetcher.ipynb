{
 "cells": [
  {
   "cell_type": "code",
   "execution_count": null,
   "metadata": {},
   "outputs": [],
   "source": [
    "# default_exp __init__"
   ]
  },
  {
   "cell_type": "code",
   "execution_count": null,
   "metadata": {},
   "outputs": [],
   "source": [
    "# hide\n",
    "import os\n",
    "notebooks_dir = os.getcwd()\n",
    "project_dir = os.path.dirname(notebooks_dir)\n",
    "\n",
    "import sys\n",
    "sys.path.append(project_dir)"
   ]
  },
  {
   "cell_type": "markdown",
   "metadata": {},
   "source": [
    "# Trading Specifications Fetcher"
   ]
  },
  {
   "cell_type": "code",
   "execution_count": null,
   "metadata": {},
   "outputs": [],
   "source": [
    "from ccstabilizer import MXCAPI"
   ]
  },
  {
   "cell_type": "code",
   "execution_count": null,
   "metadata": {},
   "outputs": [],
   "source": [
    "# export\n",
    "import os\n",
    "import time\n",
    "import yaml\n",
    "\n",
    "\n",
    "class Fetcher(object):\n",
    "\n",
    "    LIQUIDITY_YAML = './crypto-liquidity.yaml'\n",
    "    TRADING_SPEC_YAML = './crypto-trading-spec.yaml'\n",
    "\n",
    "    def __init__(self, exchange):\n",
    "        self.mxc = MXCAPI(os.environ['MXC_ACCESS_KEY'], os.environ['MXC_SECRET_KEY'])\n",
    "        self.exchange = exchange\n",
    "\n",
    "    @staticmethod\n",
    "    def write(yaml_data, yaml_file_path):\n",
    "        with open(yaml_file_path, 'w') as f:\n",
    "            yaml.dump(yaml_data, f, sort_keys=False)\n",
    "\n",
    "    @staticmethod\n",
    "    def read(yaml_file_path):\n",
    "        if not os.path.exists(yaml_file_path):\n",
    "            return {}\n",
    "        with open(yaml_file_path) as f:\n",
    "            return yaml.load(f, Loader=yaml.FullLoader)\n",
    "\n",
    "    @staticmethod\n",
    "    def extract_symbols(liquidity):\n",
    "        symbol_and_liquid = liquidity.items()\n",
    "        symbols = {\n",
    "            symbol for symbol, _ in symbol_and_liquid\n",
    "        }\n",
    "        liquid_symbols = {\n",
    "            symbol for symbol, liquid in symbol_and_liquid if liquid == True\n",
    "        }\n",
    "        return symbols, liquid_symbols\n",
    "\n",
    "    def fetch_symbols(self):\n",
    "        liquidity = {\n",
    "            trading_spec['symbol']: trading_spec.get('limited', False) for trading_spec in self.mxc.get_symbols()\n",
    "        }\n",
    "        type(self).write(liquidity, type(self).LIQUIDITY_YAML)\n",
    "        return type(self).extract_symbols(liquidity)\n",
    "\n",
    "    def read_symbols(self):\n",
    "        liquidity = type(self).read(type(self).LIQUIDITY_YAML)\n",
    "        return type(self).extract_symbols(liquidity)\n",
    "\n",
    "    def get_trading_spec(self, crypto_symbol, fiat_symbol):\n",
    "        trading_spec = self.exchange.get_trading_specification(crypto_symbol, fiat_symbol)\n",
    "        trading_specs = type(self).read(type(self).TRADING_SPEC_YAML)\n",
    "        trading_specs.update({\n",
    "            f'{crypto_symbol}-{fiat_symbol}': trading_spec\n",
    "        })\n",
    "        type(self).write(trading_specs, type(self).TRADING_SPEC_YAML)\n",
    "        return trading_spec"
   ]
  },
  {
   "cell_type": "code",
   "execution_count": null,
   "metadata": {},
   "outputs": [],
   "source": [
    "from ccstabilizer import MXC\n",
    "from ccstabilizer import secrets\n",
    "exchange = MXC()"
   ]
  },
  {
   "cell_type": "code",
   "execution_count": null,
   "metadata": {},
   "outputs": [
    {
     "data": {
      "text/plain": [
       "{'min_trade_unit': Decimal('0.01'),\n",
       " 'min_trade_fiat_money_limit': Decimal('5'),\n",
       " 'fee_rate': Decimal('0.002'),\n",
       " 'liquid': True}"
      ]
     },
     "execution_count": null,
     "metadata": {},
     "output_type": "execute_result"
    }
   ],
   "source": [
    "Fetcher(exchange).get_trading_spec('AR', 'USDT')"
   ]
  },
  {
   "cell_type": "code",
   "execution_count": null,
   "metadata": {},
   "outputs": [],
   "source": [
    "from ccstabilizer import Binance\n",
    "from ccstabilizer import secrets\n",
    "exchange = Binance()"
   ]
  },
  {
   "cell_type": "code",
   "execution_count": null,
   "metadata": {},
   "outputs": [
    {
     "data": {
      "text/plain": [
       "{'min_trade_unit': Decimal('0.01000000'),\n",
       " 'min_trade_fiat_money_limit': Decimal('10.00000000'),\n",
       " 'fee_rate': Decimal('0.001'),\n",
       " 'liquid': True}"
      ]
     },
     "execution_count": null,
     "metadata": {},
     "output_type": "execute_result"
    }
   ],
   "source": [
    "Fetcher(exchange).get_trading_spec('CELO', 'USDT')"
   ]
  }
 ],
 "metadata": {
  "kernelspec": {
   "display_name": "Python 3",
   "language": "python",
   "name": "python3"
  }
 },
 "nbformat": 4,
 "nbformat_minor": 4
}
