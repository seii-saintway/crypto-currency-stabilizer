{
 "cells": [
  {
   "cell_type": "code",
   "execution_count": null,
   "metadata": {},
   "outputs": [],
   "source": [
    "# default_exp __init__"
   ]
  },
  {
   "cell_type": "code",
   "execution_count": null,
   "metadata": {},
   "outputs": [],
   "source": [
    "# hide\n",
    "import os\n",
    "notebooks_dir = os.getcwd()\n",
    "project_dir = os.path.dirname(notebooks_dir)\n",
    "\n",
    "import sys\n",
    "sys.path.append(project_dir)"
   ]
  },
  {
   "cell_type": "markdown",
   "metadata": {},
   "source": [
    "# Notifier\n",
    "> A Slack Sender"
   ]
  },
  {
   "cell_type": "code",
   "execution_count": null,
   "metadata": {},
   "outputs": [],
   "source": [
    "from ccstabilizer import secrets"
   ]
  },
  {
   "cell_type": "code",
   "execution_count": null,
   "metadata": {},
   "outputs": [],
   "source": [
    "# export\n",
    "import os\n",
    "import requests\n",
    "\n",
    "\n",
    "class Notifier(object):\n",
    "\n",
    "    def __init__(self, channel_name='general', name='!!', icon_url='https://jupyter.org/assets/apple-touch-icon.png'):\n",
    "        self.webhook_url = os.environ['SLACK_WEBHOOK_URL']\n",
    "\n",
    "        self.good_channel_id = os.environ[f'SLACK_GOOD_{channel_name.upper()}_CHANNEL_ID']\n",
    "        self.danger_channel_id = os.environ[f'SLACK_DANGER_{channel_name.upper()}_CHANNEL_ID']\n",
    "\n",
    "        self.name = name\n",
    "        self.icon_url = icon_url\n",
    "\n",
    "    def send_slack(self, message, text, color='good'):\n",
    "        if color == 'good':\n",
    "            channel_id = self.good_channel_id\n",
    "            message = f':grinning: {message}'\n",
    "        if color == 'danger':\n",
    "            channel_id = self.danger_channel_id\n",
    "            message = f':slightly_frowning_face: {message}'\n",
    "\n",
    "        requests.post(\n",
    "            self.webhook_url,\n",
    "            json={\n",
    "                'channel': channel_id,\n",
    "                'username': f'{self.name} Notifications',\n",
    "                'icon_url': self.icon_url,\n",
    "                'text': message,\n",
    "                'mrkdwn': True,\n",
    "                'attachments': [{\n",
    "                    'title': '→ Trading Operations',\n",
    "                    'title_link': 'https://jhub.name/user/sheng_wei/lab',\n",
    "                    'text': text,\n",
    "                    'color': color,\n",
    "                }]\n",
    "            }\n",
    "        )"
   ]
  },
  {
   "cell_type": "code",
   "execution_count": null,
   "metadata": {},
   "outputs": [],
   "source": [
    "Notifier(name='Test').send_slack(\n",
    "    'Send succeed\\n', 'Power by https://jhub.name/', 'good'\n",
    ")"
   ]
  }
 ],
 "metadata": {
  "kernelspec": {
   "display_name": "Python 3",
   "language": "python",
   "name": "python3"
  }
 },
 "nbformat": 4,
 "nbformat_minor": 4
}
