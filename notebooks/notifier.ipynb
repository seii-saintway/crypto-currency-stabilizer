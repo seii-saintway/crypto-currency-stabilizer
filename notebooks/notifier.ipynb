{
 "cells": [
  {
   "cell_type": "code",
   "execution_count": null,
   "metadata": {},
   "outputs": [],
   "source": [
    "# default_exp __init__"
   ]
  },
  {
   "cell_type": "code",
   "execution_count": null,
   "metadata": {},
   "outputs": [],
   "source": [
    "# hide\n",
    "import os\n",
    "notebooks_dir = os.getcwd()\n",
    "project_dir = os.path.dirname(notebooks_dir)\n",
    "\n",
    "import sys\n",
    "sys.path.append(project_dir)"
   ]
  },
  {
   "cell_type": "markdown",
   "metadata": {},
   "source": [
    "# Notifier\n",
    "> A Slack Sender"
   ]
  },
  {
   "cell_type": "code",
   "execution_count": null,
   "metadata": {},
   "outputs": [],
   "source": [
    "# export\n",
    "from ccstabilizer import secrets"
   ]
  },
  {
   "cell_type": "code",
   "execution_count": null,
   "metadata": {},
   "outputs": [],
   "source": [
    "# export\n",
    "import os\n",
    "import requests\n",
    "\n",
    "\n",
    "class Notifier(object):\n",
    "\n",
    "    WEBHOOK_URL = os.environ['SLACK_WEBHOOK_URL']\n",
    "    GOOD_CHANNEL_ID = os.environ['SLACK_GOOD_CHANNEL_ID']\n",
    "    DANGER_CHANNEL_ID = os.environ['SLACK_DANGER_CHANNEL_ID']\n",
    "\n",
    "    def __init__(self, name='!!'):\n",
    "        self.name = name\n",
    "\n",
    "    def send_slack(self, message, text, color='good'):\n",
    "        if color == 'good':\n",
    "            channel_id = type(self).GOOD_CHANNEL_ID\n",
    "            message = f':grinning: {message}'\n",
    "        if color == 'danger':\n",
    "            channel_id = type(self).DANGER_CHANNEL_ID\n",
    "            message = f':slightly_frowning_face: {message}'\n",
    "\n",
    "        requests.post(\n",
    "            type(self).WEBHOOK_URL,\n",
    "            json={\n",
    "                'channel': channel_id,\n",
    "                'username': f'{self.name} Notifications',\n",
    "#                 'icon_url': 'https://jupyter.org/assets/apple-touch-icon.png',\n",
    "                'icon_url': 'https://icodrops.com/favicons/favicon-32x32.png',\n",
    "                'text': message,\n",
    "                'mrkdwn': True,\n",
    "                'attachments': [{\n",
    "                    'title': '→ Trading Operations',\n",
    "                    'title_link': 'https://jhub.name/user/sheng_wei/lab',\n",
    "                    'text': text,\n",
    "                    'color': color,\n",
    "                }]\n",
    "            }\n",
    "        )"
   ]
  },
  {
   "cell_type": "code",
   "execution_count": null,
   "metadata": {},
   "outputs": [],
   "source": [
    "Notifier('Test').send_slack(\n",
    "    'Send succeed\\n', 'Power by https://jhub.name/', 'good'\n",
    ")"
   ]
  }
 ],
 "metadata": {
  "kernelspec": {
   "display_name": "Python 3",
   "language": "python",
   "name": "python3"
  }
 },
 "nbformat": 4,
 "nbformat_minor": 4
}
