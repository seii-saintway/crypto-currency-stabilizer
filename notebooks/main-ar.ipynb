{
 "cells": [
  {
   "cell_type": "code",
   "execution_count": null,
   "metadata": {},
   "outputs": [],
   "source": [
    "# default_exp ar"
   ]
  },
  {
   "cell_type": "code",
   "execution_count": null,
   "metadata": {},
   "outputs": [],
   "source": [
    "# hide\n",
    "import os\n",
    "notebooks_dir = os.getcwd()\n",
    "project_dir = os.path.dirname(notebooks_dir)\n",
    "\n",
    "import sys\n",
    "sys.path.append(project_dir)"
   ]
  },
  {
   "cell_type": "markdown",
   "metadata": {},
   "source": [
    "# A Trader Robot\n",
    "> Which Stabilize Fiat Value Curve of Crypto Currency"
   ]
  },
  {
   "cell_type": "markdown",
   "metadata": {},
   "source": [
    "## Parameters"
   ]
  },
  {
   "cell_type": "code",
   "execution_count": null,
   "metadata": {},
   "outputs": [],
   "source": [
    "# exports\n",
    "TEST_RATIO = 1"
   ]
  },
  {
   "cell_type": "code",
   "execution_count": null,
   "metadata": {},
   "outputs": [],
   "source": [
    "# exports\n",
    "NOTIFY_RATE = 60 * 8\n",
    "BACKUP_RATE = 1"
   ]
  },
  {
   "cell_type": "markdown",
   "metadata": {},
   "source": [
    "## Find Symbols"
   ]
  },
  {
   "cell_type": "code",
   "execution_count": null,
   "metadata": {},
   "outputs": [],
   "source": [
    "# exports\n",
    "from decimal import Decimal\n",
    "\n",
    "CRYPTO_SYMBOL = 'AR'\n",
    "FIAT_SYMBOL = 'USDT'\n",
    "MAX_USED_FIAT_MONEY_LIMIT = Decimal('1000')"
   ]
  },
  {
   "cell_type": "code",
   "execution_count": null,
   "metadata": {},
   "outputs": [],
   "source": [
    "# exporti\n",
    "from ccstabilizer import MXC\n",
    "from ccstabilizer import secrets\n",
    "from ccstabilizer import Fetcher\n",
    "from ccstabilizer import Notifier\n",
    "from ccstabilizer import Trader\n",
    "from ccstabilizer import Status"
   ]
  },
  {
   "cell_type": "code",
   "execution_count": null,
   "metadata": {},
   "outputs": [
    {
     "data": {
      "text/plain": [
       "<ccstabilizer.Status at 0x7fa03a1d5908>"
      ]
     },
     "execution_count": null,
     "metadata": {},
     "output_type": "execute_result"
    }
   ],
   "source": [
    "# exporti\n",
    "exchange = MXC()\n",
    "fetcher = Fetcher(exchange)\n",
    "notifier = Notifier(channel_name='mxc', name='Launcher')\n",
    "\n",
    "# notifier.send_slack(\n",
    "#     f'{CRYPTO_SYMBOL}-{FIAT_SYMBOL} Detecting started\\n', 'Power by https://jhub.name/', 'good'\n",
    "# )\n",
    "\n",
    "trading_spec = {}\n",
    "while True:\n",
    "    exchange.update_trading_specifications()\n",
    "    trading_spec = fetcher.get_trading_spec(CRYPTO_SYMBOL, FIAT_SYMBOL)\n",
    "    if trading_spec.get('liquid', False) == True:\n",
    "        break\n",
    "    else:\n",
    "        time.sleep(Trader.SAMPLE_INTERVAL)\n",
    "\n",
    "notifier.send_slack(\n",
    "    f'{CRYPTO_SYMBOL}-{FIAT_SYMBOL} detected\\n', 'Power by https://jhub.name/', 'good'\n",
    ")\n",
    "\n",
    "status = Status(\n",
    "    robot_name = f'{CRYPTO_SYMBOL} Robot',\n",
    "    crypto_symbol = CRYPTO_SYMBOL,\n",
    "    fiat_symbol = FIAT_SYMBOL,\n",
    "    trade_unit = trading_spec.get('min_trade_unit', 1),\n",
    "    max_used_fiat_money_limit = MAX_USED_FIAT_MONEY_LIMIT,\n",
    ")\n",
    "status.read()"
   ]
  },
  {
   "cell_type": "markdown",
   "metadata": {},
   "source": [
    "## Start Trading\n",
    "### ToDo: Concurrent Control of Robots"
   ]
  },
  {
   "cell_type": "code",
   "execution_count": null,
   "metadata": {},
   "outputs": [],
   "source": [
    "# exporti\n",
    "from ccstabilizer import BookKeeper\n",
    "from ccstabilizer import Trader"
   ]
  },
  {
   "cell_type": "code",
   "execution_count": null,
   "metadata": {},
   "outputs": [],
   "source": [
    "# exporti\n",
    "import time\n",
    "\n",
    "\n",
    "with BookKeeper(exchange, [status]) as bookkeeper:\n",
    "\n",
    "#     from unittest.mock import Mock\n",
    "#     bookkeeper.prv.order = Mock()\n",
    "\n",
    "    trader = Trader(\n",
    "        exchange = exchange,\n",
    "        status = status,\n",
    "        gainable_unit_cc_sold_ratio = Decimal('0.236'),\n",
    "        lossable_unit_cc_bought_ratio = Decimal('0.786'),\n",
    "        min_trade_fiat_price = Decimal('0'),\n",
    "        max_trade_fiat_price = Decimal('Infinity')\n",
    "    )\n",
    "    notifier = Notifier(channel_name='mxc', name=status.crypto_symbol)\n",
    "\n",
    "    notifier.send_slack(\n",
    "        f'{status.robot_name} launched\\n' f'{status.get_robot_title()}', 'Power by https://jhub.name/', 'good'\n",
    "    )\n",
    "\n",
    "    while __name__ == '__main__':\n",
    "\n",
    "        cooling_interval, trade_type, unit_amount = trader.check_and_trade()\n",
    "\n",
    "        bookkeeper.fsh.write(f'{status}\\n')\n",
    "\n",
    "#         new_status = bookkeeper.estimate_functions.get(trade_type, lambda unit_amount: status)(unit_amount)\n",
    "        new_status = bookkeeper.estimate_status_list()[0]\n",
    "\n",
    "        if new_status is not status:\n",
    "\n",
    "            status.update(new_status)\n",
    "\n",
    "            bookkeeper.fth.write(f'{status}\\n')\n",
    "            status.write()\n",
    "\n",
    "            notifier.send_slack(\n",
    "                f'{bookkeeper.last_transaction} => {status.get_robot_title()}',\n",
    "                'Power by https://jhub.name/', 'good' if status.total_gained_fiat_money >= 0 else 'danger'\n",
    "            )\n",
    "\n",
    "            notifier.send_slack(\n",
    "                f'{status} => Support level is {trader.min_unit_cc_trade_fiat_money} {status.fiat_symbol}.',\n",
    "                'Power by https://jhub.name/', 'good' if status.get_total_gain_fiat_money() >= 0 else 'danger'\n",
    "            )\n",
    "\n",
    "#             if status.bought_unit_amount == 0:\n",
    "#                 break\n",
    "\n",
    "            if status.total_gained_fiat_money < -Trader.MAX_LOST_JPY:\n",
    "                break\n",
    "\n",
    "        else:\n",
    "\n",
    "            if status.sample_number % Trader.TRADE_RATE == 0:\n",
    "                bookkeeper.fth.write(f'{status}\\n')\n",
    "\n",
    "            if status.sample_number % BACKUP_RATE == 0:\n",
    "                status.write()\n",
    "\n",
    "            if status.sample_number % NOTIFY_RATE == 0:\n",
    "                notifier.send_slack(\n",
    "                    f'{status} => Support level is {trader.min_unit_cc_trade_fiat_money} {status.fiat_symbol}.',\n",
    "                    'Power by https://jhub.name/', 'good' if status.get_total_gain_fiat_money() > 0 else 'danger'\n",
    "                )\n",
    "\n",
    "        status.sample_number += 1\n",
    "        time.sleep(cooling_interval / TEST_RATIO)\n",
    "\n",
    "    notifier.send_slack(\n",
    "        f'{status.robot_name} terminated\\n' f'{status.get_robot_title()}', 'Power by https://jhub.name/', 'good'\n",
    "    )"
   ]
  },
  {
   "cell_type": "code",
   "execution_count": null,
   "metadata": {},
   "outputs": [],
   "source": [
    "# hide\n",
    "from nbdev.export import notebook2script; notebook2script()"
   ]
  }
 ],
 "metadata": {
  "kernelspec": {
   "display_name": "Python 3",
   "language": "python",
   "name": "python3"
  }
 },
 "nbformat": 4,
 "nbformat_minor": 4
}
