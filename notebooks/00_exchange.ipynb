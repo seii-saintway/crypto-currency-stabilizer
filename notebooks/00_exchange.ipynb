{
 "cells": [
  {
   "cell_type": "code",
   "execution_count": null,
   "metadata": {},
   "outputs": [],
   "source": [
    "# default_exp __init__"
   ]
  },
  {
   "cell_type": "markdown",
   "metadata": {},
   "source": [
    "# Exchange"
   ]
  },
  {
   "cell_type": "code",
   "execution_count": null,
   "metadata": {},
   "outputs": [],
   "source": [
    "# export\n",
    "class Exchange(object):\n",
    "\n",
    "    def __init__(self):\n",
    "        self.trading_specifications = {}\n",
    "\n",
    "    def get_trading_specification(self, crypto_symbol, fiat_symbol):\n",
    "        return self.trading_specifications.get((crypto_symbol, fiat_symbol), {})\n",
    "\n",
    "    def get_portfolio(self):\n",
    "        raise NotImplementedError\n",
    "\n",
    "    def get_price(self, crypto_symbol, fiat_symbol):\n",
    "        raise NotImplementedError\n",
    "\n",
    "    def buy(self, crypto_symbol, fiat_symbol, amount, fiat_price_without_fee):\n",
    "        raise NotImplementedError\n",
    "\n",
    "    def sell(self, crypto_symbol, fiat_symbol, amount, fiat_price_without_fee):\n",
    "        raise NotImplementedError"
   ]
  }
 ],
 "metadata": {
  "kernelspec": {
   "display_name": "Python 3",
   "language": "python",
   "name": "python3"
  }
 },
 "nbformat": 4,
 "nbformat_minor": 4
}
