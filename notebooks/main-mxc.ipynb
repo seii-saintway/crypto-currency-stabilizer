{
 "cells": [
  {
   "cell_type": "code",
   "execution_count": null,
   "metadata": {},
   "outputs": [],
   "source": [
    "# default_exp mxc"
   ]
  },
  {
   "cell_type": "code",
   "execution_count": null,
   "metadata": {},
   "outputs": [],
   "source": [
    "# hide\n",
    "import os\n",
    "notebooks_dir = os.getcwd()\n",
    "project_dir = os.path.dirname(notebooks_dir)\n",
    "\n",
    "import sys\n",
    "sys.path.append(project_dir)"
   ]
  },
  {
   "cell_type": "markdown",
   "metadata": {},
   "source": [
    "# A Trader Robot\n",
    "> Which Stabilize Fiat Value Curve of Crypto Currency"
   ]
  },
  {
   "cell_type": "markdown",
   "metadata": {},
   "source": [
    "## Parameters"
   ]
  },
  {
   "cell_type": "code",
   "execution_count": null,
   "metadata": {},
   "outputs": [],
   "source": [
    "# exports\n",
    "TEST_RATIO = 1"
   ]
  },
  {
   "cell_type": "code",
   "execution_count": null,
   "metadata": {},
   "outputs": [],
   "source": [
    "# exports\n",
    "NOTIFY_RATE = 60 * 8\n",
    "BACKUP_RATE = 1"
   ]
  },
  {
   "cell_type": "markdown",
   "metadata": {},
   "source": [
    "## Find Symbols"
   ]
  },
  {
   "cell_type": "code",
   "execution_count": null,
   "metadata": {},
   "outputs": [],
   "source": [
    "# exports\n",
    "from decimal import Decimal\n",
    "\n",
    "FIAT_SYMBOLS = {\n",
    "    'AR': 'USDT',\n",
    "    'B20': 'USDT',\n",
    "    'BDP': 'USDT',\n",
    "    'HOPR': 'USDT',\n",
    "    'OCEAN': 'USDT',\n",
    "    'VELO': 'USDT',\n",
    "    'ZYRO': 'USDT',\n",
    "}\n",
    "MAX_USED_FIAT_MONEY_LIMIT = {\n",
    "    'AR': Decimal('1000'),\n",
    "    'B20': Decimal('1000'),\n",
    "    'BDP': Decimal('1000'),\n",
    "    'HOPR': Decimal('1000'),\n",
    "    'OCEAN': Decimal('1000'),\n",
    "    'VELO': Decimal('1000'),\n",
    "    'ZYRO': Decimal('1000'),\n",
    "}\n",
    "GAINABLE_UNIT_CC_SOLD_RATIO = {\n",
    "    'AR': Decimal('0.236'),\n",
    "    'B20': Decimal('0.236'),\n",
    "    'BDP': Decimal('0.236'),\n",
    "    'HOPR': Decimal('0.236'),\n",
    "    'OCEAN': Decimal('0.236'),\n",
    "    'VELO': Decimal('0.236'),\n",
    "    'ZYRO': Decimal('0.236'),\n",
    "}\n",
    "LOSSABLE_UNIT_CC_BOUGHT_RATIO = {\n",
    "    'AR': Decimal('0.618'),\n",
    "    'B20': Decimal('0.786'),\n",
    "    'BDP': Decimal('0.618'),\n",
    "    'HOPR': Decimal('0.618'),\n",
    "    'OCEAN': Decimal('0.786'),\n",
    "    'VELO': Decimal('0.618'),\n",
    "    'ZYRO': Decimal('0.786'),\n",
    "}\n",
    "MIN_TRADE_FIAT_PRICE = {\n",
    "    'AR': Decimal('0'),\n",
    "    'B20': Decimal('0'),\n",
    "    'BDP': Decimal('0'),\n",
    "    'HOPR': Decimal('0'),\n",
    "    'OCEAN': Decimal('0'),\n",
    "    'VELO': Decimal('0'),\n",
    "    'ZYRO': Decimal('0'),\n",
    "}\n",
    "MAX_TRADE_FIAT_PRICE = {\n",
    "    'AR': Decimal('Infinity'),\n",
    "    'B20': Decimal('Infinity'),\n",
    "    'BDP': Decimal('Infinity'),\n",
    "    'HOPR': Decimal('Infinity'),\n",
    "    'OCEAN': Decimal('Infinity'),\n",
    "    'VELO': Decimal('Infinity'),\n",
    "    'ZYRO': Decimal('Infinity'),\n",
    "}"
   ]
  },
  {
   "cell_type": "code",
   "execution_count": null,
   "metadata": {},
   "outputs": [],
   "source": [
    "# exporti\n",
    "from ccstabilizer import Fetcher\n",
    "from ccstabilizer import Notifier\n",
    "from ccstabilizer import Trader\n",
    "from ccstabilizer import Status"
   ]
  },
  {
   "cell_type": "code",
   "execution_count": null,
   "metadata": {},
   "outputs": [],
   "source": [
    "# exporti\n",
    "fetcher = Fetcher()\n",
    "notifier = Notifier('Launcher')\n",
    "\n",
    "crypto_infos = {}\n",
    "for crypto_symbol in FIAT_SYMBOLS:\n",
    "    fiat_symbol = FIAT_SYMBOLS[crypto_symbol]\n",
    "\n",
    "#     notifier.send_slack(\n",
    "#         f'{crypto_symbol}-{fiat_symbol} Detecting started\\n', 'Power by https://jhub.name/', 'good'\n",
    "#     )\n",
    "\n",
    "    symbol_in_mxc = f'{crypto_symbol}_{fiat_symbol}'\n",
    "    crypto_info = fetcher.get_trading_spec(symbol_in_mxc)\n",
    "    if crypto_info.get('symbol', '') == symbol_in_mxc and crypto_info.get('limited', False) == True:\n",
    "        crypto_infos[crypto_symbol] = crypto_info\n",
    "        notifier.send_slack(\n",
    "            f'{crypto_symbol}-{fiat_symbol} detected\\n', 'Power by https://jhub.name/', 'good'\n",
    "        )\n",
    "    else:\n",
    "        notifier.send_slack(\n",
    "            f'{crypto_symbol}-{fiat_symbol} detection failed\\n', 'Power by https://jhub.name/', 'danger'\n",
    "        )\n",
    "\n",
    "status_list = []\n",
    "for crypto_symbol in crypto_infos:\n",
    "    fiat_symbol = FIAT_SYMBOLS[crypto_symbol]\n",
    "    max_used_fiat_money_limit = MAX_USED_FIAT_MONEY_LIMIT[crypto_symbol]\n",
    "    crypto_info = crypto_infos[crypto_symbol]\n",
    "    status = Status(\n",
    "        robot_name = f'{crypto_symbol} Robot',\n",
    "        crypto_symbol = crypto_symbol,\n",
    "        fiat_symbol = fiat_symbol,\n",
    "        max_used_fiat_money_limit = max_used_fiat_money_limit,\n",
    "        **crypto_info\n",
    "    )\n",
    "    status.read()\n",
    "    status_list.append(status)\n",
    "\n",
    "trader_list = []\n",
    "notifier_list = []\n",
    "for status in status_list:\n",
    "    trader = Trader(\n",
    "        status = status,\n",
    "        gainable_unit_cc_sold_ratio = GAINABLE_UNIT_CC_SOLD_RATIO[status.crypto_symbol],\n",
    "        lossable_unit_cc_bought_ratio = LOSSABLE_UNIT_CC_BOUGHT_RATIO[status.crypto_symbol],\n",
    "        min_trade_fiat_price = MIN_TRADE_FIAT_PRICE[status.crypto_symbol],\n",
    "        max_trade_fiat_price = MAX_TRADE_FIAT_PRICE[status.crypto_symbol]\n",
    "    )\n",
    "    trader_list.append(trader)\n",
    "    notifier = Notifier(status.crypto_symbol)\n",
    "    notifier.send_slack(\n",
    "        f'{status.robot_name} launched\\n' f'{status.get_robot_title()}', 'Power by https://jhub.name/', 'good'\n",
    "    )\n",
    "    notifier_list.append(notifier)"
   ]
  },
  {
   "cell_type": "markdown",
   "metadata": {},
   "source": [
    "## Start Trading\n",
    "### ToDo: Concurrent Control of Robots"
   ]
  },
  {
   "cell_type": "code",
   "execution_count": null,
   "metadata": {},
   "outputs": [],
   "source": [
    "# exporti\n",
    "from ccstabilizer import BookKeeper\n",
    "from ccstabilizer import Trader"
   ]
  },
  {
   "cell_type": "code",
   "execution_count": null,
   "metadata": {},
   "outputs": [],
   "source": [
    "# exporti\n",
    "import time\n",
    "\n",
    "\n",
    "with BookKeeper(status_list) as bookkeeper:\n",
    "\n",
    "    idx = 0\n",
    "    num = len(status_list)\n",
    "\n",
    "    while __name__ == '__main__':\n",
    "\n",
    "        status = status_list[idx]\n",
    "        trader = trader_list[idx]\n",
    "        notifier = notifier_list[idx]\n",
    "\n",
    "        cooling_interval, trade_type, unit_amount = trader.check_and_trade()\n",
    "\n",
    "        bookkeeper.fsh.write(f'{status}\\n')\n",
    "\n",
    "        new_status_list = bookkeeper.estimate_status_list()\n",
    "\n",
    "        messages = []\n",
    "        for i, new_status in enumerate(new_status_list):\n",
    "            if new_status is not status_list[i]:\n",
    "\n",
    "                status_list[i].update(new_status)\n",
    "\n",
    "                bookkeeper.fth.write(f'{status_list[i]}\\n')\n",
    "                status_list[i].write()\n",
    "\n",
    "                messages.append(f'{status_list[i].last_transaction} => {status_list[i].get_robot_title()}')\n",
    "                messages.append(f'{status_list[i]} => Support level is {trader.min_unit_cc_trade_fiat_money} {status_list[i].fiat_symbol}.')\n",
    "\n",
    "#         if status.bought_unit_amount == 0:\n",
    "#             messages.append(f'{status.robot_name} terminated\\n' f'{status.get_robot_title()}')\n",
    "#             del status_list[idx], trader_list[idx], notifier_list[idx]\n",
    "#             num = len(status_list)\n",
    "\n",
    "#         if status.total_gained_fiat_money < -Trader.MAX_LOST_JPY:\n",
    "#             messages.append(f'{status.robot_name} terminated\\n' f'{status.get_robot_title()}')\n",
    "#             del status_list[idx], trader_list[idx], notifier_list[idx]\n",
    "#             num = len(status_list)\n",
    "\n",
    "        if messages == []:\n",
    "\n",
    "            if status.sample_number % Trader.TRADE_RATE == 0:\n",
    "                bookkeeper.fth.write(f'{status}\\n')\n",
    "\n",
    "            if status.sample_number % BACKUP_RATE == 0:\n",
    "                status.write()\n",
    "\n",
    "            if status.sample_number % NOTIFY_RATE == 0:\n",
    "                messages.append(f'{status} => Support level is {trader.min_unit_cc_trade_fiat_money} {status.fiat_symbol}.')\n",
    "\n",
    "        if messages:\n",
    "            notifier.send_slack(\n",
    "                '\\n'.join(messages), 'Power by https://jhub.name/', 'good' if status.get_total_gain_fiat_money() >= 0 else 'danger'\n",
    "            )\n",
    "\n",
    "#         if num == 0:\n",
    "#             break\n",
    "\n",
    "        status.sample_number += 1\n",
    "        time.sleep(Trader.SAMPLE_INTERVAL / num / TEST_RATIO)\n",
    "\n",
    "        idx = (idx + 1) % num"
   ]
  },
  {
   "cell_type": "code",
   "execution_count": null,
   "metadata": {},
   "outputs": [],
   "source": [
    "# hide\n",
    "from nbdev.export import notebook2script; notebook2script()"
   ]
  }
 ],
 "metadata": {
  "kernelspec": {
   "display_name": "Python 3",
   "language": "python",
   "name": "python3"
  }
 },
 "nbformat": 4,
 "nbformat_minor": 4
}
