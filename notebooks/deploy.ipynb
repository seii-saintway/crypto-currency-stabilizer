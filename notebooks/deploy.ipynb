{
 "cells": [
  {
   "cell_type": "markdown",
   "metadata": {},
   "source": [
    "# Deploy Services using Systemd"
   ]
  },
  {
   "cell_type": "code",
   "execution_count": null,
   "metadata": {},
   "outputs": [],
   "source": [
    "robot_name=mxc"
   ]
  },
  {
   "cell_type": "code",
   "execution_count": null,
   "metadata": {},
   "outputs": [],
   "source": [
    "echo -en \"\n",
    "[Unit]\n",
    "Description=trading by ${robot_name} robot with the best price\n",
    "\n",
    "[Service]\n",
    "User=$(whoami)\n",
    "Group=$(whoami)\n",
    "Restart=always\n",
    "Environment=\\\"PYTHONPATH='.'\\\"\n",
    "WorkingDirectory=$(dirname $(pwd))\n",
    "ExecStart=$(which python) -m ccstabilizer.${robot_name}\n",
    "\n",
    "[Install]\n",
    "WantedBy=multi-user.target\n",
    "\" > trade-${robot_name}.service"
   ]
  },
  {
   "cell_type": "code",
   "execution_count": null,
   "metadata": {},
   "outputs": [],
   "source": [
    "echo -en \"\n",
    "init-trade-${robot_name}:\n",
    "\\t@sudo cp trade-${robot_name}.service /etc/systemd/system/\n",
    "\\t@sudo systemctl daemon-reload\n",
    "\\t@sudo systemctl enable trade-${robot_name}.service\n",
    "\n",
    "del-trade-${robot_name}:\n",
    "\\t@sudo rm /etc/systemd/system/trade-${robot_name}.service\n",
    "\\t@sudo systemctl daemon-reload\n",
    "\\t@sudo systemctl disable trade-${robot_name}.service\n",
    "\n",
    "restart-trade-${robot_name}:\n",
    "\\t@sudo systemctl restart trade-${robot_name}.service\n",
    "\n",
    "stop-trade-${robot_name}:\n",
    "\\t@sudo systemctl stop trade-${robot_name}.service\n",
    "\" >> Makefile"
   ]
  },
  {
   "cell_type": "code",
   "execution_count": null,
   "metadata": {},
   "outputs": [],
   "source": [
    "make init-trade-${robot_name}"
   ]
  },
  {
   "cell_type": "code",
   "execution_count": null,
   "metadata": {},
   "outputs": [],
   "source": [
    "make restart-trade-${robot_name}"
   ]
  },
  {
   "cell_type": "code",
   "execution_count": null,
   "metadata": {},
   "outputs": [],
   "source": [
    "make stop-trade-${robot_name}"
   ]
  },
  {
   "cell_type": "code",
   "execution_count": null,
   "metadata": {},
   "outputs": [],
   "source": [
    "make del-trade-${robot_name}"
   ]
  }
 ],
 "metadata": {
  "kernelspec": {
   "display_name": "Bash",
   "language": "bash",
   "name": "bash"
  }
 },
 "nbformat": 4,
 "nbformat_minor": 4
}
