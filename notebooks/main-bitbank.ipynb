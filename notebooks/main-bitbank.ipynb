{
 "cells": [
  {
   "cell_type": "code",
   "execution_count": null,
   "metadata": {},
   "outputs": [],
   "source": [
    "# default_exp bitbank"
   ]
  },
  {
   "cell_type": "code",
   "execution_count": null,
   "metadata": {},
   "outputs": [],
   "source": [
    "# hide\n",
    "import os\n",
    "notebooks_dir = os.getcwd()\n",
    "project_dir = os.path.dirname(notebooks_dir)\n",
    "\n",
    "import sys\n",
    "sys.path.append(project_dir)"
   ]
  },
  {
   "cell_type": "markdown",
   "metadata": {},
   "source": [
    "# A Trader Robot\n",
    "> Which Stabilize Fiat Value Curve of Crypto Currency"
   ]
  },
  {
   "cell_type": "markdown",
   "metadata": {},
   "source": [
    "## Parameters"
   ]
  },
  {
   "cell_type": "code",
   "execution_count": null,
   "metadata": {},
   "outputs": [],
   "source": [
    "# exports\n",
    "TEST_RATIO = 1"
   ]
  },
  {
   "cell_type": "code",
   "execution_count": null,
   "metadata": {},
   "outputs": [],
   "source": [
    "# exports\n",
    "NOTIFY_RATE = 60 * 8\n",
    "BACKUP_RATE = 1"
   ]
  },
  {
   "cell_type": "markdown",
   "metadata": {},
   "source": [
    "## Find Symbols"
   ]
  },
  {
   "cell_type": "code",
   "execution_count": null,
   "metadata": {},
   "outputs": [],
   "source": [
    "# exports\n",
    "from decimal import Decimal\n",
    "\n",
    "MAX_USED_FIAT_MONEY_LIMIT = {\n",
    "    ('ETH', 'JPY'): Decimal('200000'),\n",
    "    ('LTC', 'JPY'): Decimal('100000'),\n",
    "    ('BCC', 'JPY'): Decimal('100000'),\n",
    "    ('XLM', 'JPY'): Decimal('100000'),\n",
    "    ('BAT', 'JPY'): Decimal('100000'),\n",
    "}\n",
    "GAINABLE_UNIT_CC_SOLD_RATIO = {\n",
    "    ('ETH', 'JPY'): Decimal('0.786'),\n",
    "    ('LTC', 'JPY'): Decimal('0.236'),\n",
    "    ('BCC', 'JPY'): Decimal('0.236'),\n",
    "    ('XLM', 'JPY'): Decimal('0.236'),\n",
    "    ('BAT', 'JPY'): Decimal('0.236'),\n",
    "}\n",
    "LOSSABLE_UNIT_CC_BOUGHT_RATIO = {\n",
    "    ('ETH', 'JPY'): Decimal('0.618'),\n",
    "    ('LTC', 'JPY'): Decimal('0.786'),\n",
    "    ('BCC', 'JPY'): Decimal('0.786'),\n",
    "    ('XLM', 'JPY'): Decimal('0.786'),\n",
    "    ('BAT', 'JPY'): Decimal('0.786'),\n",
    "}\n",
    "MIN_TRADE_FIAT_PRICE = {\n",
    "    ('ETH', 'JPY'): Decimal('5000'),\n",
    "    ('LTC', 'JPY'): Decimal('2000'),\n",
    "    ('BCC', 'JPY'): Decimal('3000'),\n",
    "    ('XLM', 'JPY'): Decimal('5'),\n",
    "    ('BAT', 'JPY'): Decimal('0'),\n",
    "}\n",
    "MAX_TRADE_FIAT_PRICE = {\n",
    "    ('ETH', 'JPY'): Decimal('Infinity'),\n",
    "    ('LTC', 'JPY'): Decimal('Infinity'),\n",
    "    ('BCC', 'JPY'): Decimal('Infinity'),\n",
    "    ('XLM', 'JPY'): Decimal('Infinity'),\n",
    "    ('BAT', 'JPY'): Decimal('Infinity'),\n",
    "}\n",
    "ICON_URL = {\n",
    "    ('ETH', 'JPY'): 'https://ethereum.org/favicon-32x32.png',\n",
    "    ('LTC', 'JPY'): 'https://litecoin.org/img/litecoin.png',\n",
    "    ('BCC', 'JPY'): 'https://www.bitcoincash.org/favicon-32x32.png',\n",
    "    ('XLM', 'JPY'): 'https://descentralizar.info/content/images/2020/03/stellar-circle-mark-small-2.png',\n",
    "    ('BAT', 'JPY'): 'https://basicattentiontoken.org/static-assets/images/bat-favicon.png',\n",
    "}"
   ]
  },
  {
   "cell_type": "code",
   "execution_count": null,
   "metadata": {},
   "outputs": [],
   "source": [
    "# exporti\n",
    "from ccstabilizer import Bitbank\n",
    "from ccstabilizer import secrets\n",
    "from ccstabilizer import Fetcher\n",
    "from ccstabilizer import Notifier\n",
    "from ccstabilizer import Trader\n",
    "from ccstabilizer import Status"
   ]
  },
  {
   "cell_type": "code",
   "execution_count": null,
   "metadata": {},
   "outputs": [],
   "source": [
    "# exporti\n",
    "exchange = Bitbank()\n",
    "fetcher = Fetcher(exchange)\n",
    "notifier = Notifier(channel_name='bitbank', name='Launcher')\n",
    "\n",
    "messages = []\n",
    "color = 'good'\n",
    "status_list = []\n",
    "for crypto_symbol, fiat_symbol in MAX_USED_FIAT_MONEY_LIMIT:\n",
    "    trading_spec = fetcher.get_trading_spec(crypto_symbol, fiat_symbol)\n",
    "    if not trading_spec.get('liquid', False):\n",
    "        messages.append(f'{crypto_symbol}-{fiat_symbol} detection failed\\n')\n",
    "        color = 'danger'\n",
    "        continue\n",
    "    messages.append(f'{crypto_symbol}-{fiat_symbol} detected\\n')\n",
    "    if 'min_trade_unit' not in trading_spec:\n",
    "        raise Exception(\"'min_trade_unit' not in trading_spec\")\n",
    "    min_trade_unit = trading_spec.get('min_trade_unit', 1)\n",
    "    max_used_fiat_money_limit = MAX_USED_FIAT_MONEY_LIMIT[(crypto_symbol, fiat_symbol)]\n",
    "    status = Status(\n",
    "        robot_name = f'{crypto_symbol}-{fiat_symbol} Robot',\n",
    "        crypto_symbol = crypto_symbol,\n",
    "        fiat_symbol = fiat_symbol,\n",
    "        trade_unit = min_trade_unit,\n",
    "        max_used_fiat_money_limit = max_used_fiat_money_limit,\n",
    "    )\n",
    "    status.read()\n",
    "    status_list.append(status)\n",
    "\n",
    "notifier.send_slack(\n",
    "    ''.join(messages), 'Power by https://jhub.name/', color\n",
    ")"
   ]
  },
  {
   "cell_type": "markdown",
   "metadata": {},
   "source": [
    "## Start Trading\n",
    "### ToDo: Concurrent Control of Robots"
   ]
  },
  {
   "cell_type": "code",
   "execution_count": null,
   "metadata": {},
   "outputs": [],
   "source": [
    "# exporti\n",
    "from ccstabilizer import BookKeeper\n",
    "from ccstabilizer import Trader"
   ]
  },
  {
   "cell_type": "code",
   "execution_count": null,
   "metadata": {},
   "outputs": [],
   "source": [
    "# exporti\n",
    "import time\n",
    "\n",
    "\n",
    "with BookKeeper(exchange, status_list) as bookkeeper:\n",
    "\n",
    "    trader_list = []\n",
    "    notifier_list = []\n",
    "    messages = []\n",
    "    for status in status_list:\n",
    "        trader = Trader(\n",
    "            exchange = exchange,\n",
    "            status = status,\n",
    "            gainable_unit_cc_sold_ratio = GAINABLE_UNIT_CC_SOLD_RATIO[(status.crypto_symbol, status.fiat_symbol)],\n",
    "            lossable_unit_cc_bought_ratio = LOSSABLE_UNIT_CC_BOUGHT_RATIO[(status.crypto_symbol, status.fiat_symbol)],\n",
    "            min_trade_fiat_price = MIN_TRADE_FIAT_PRICE[(status.crypto_symbol, status.fiat_symbol)],\n",
    "            max_trade_fiat_price = MAX_TRADE_FIAT_PRICE[(status.crypto_symbol, status.fiat_symbol)]\n",
    "        )\n",
    "        trader_list.append(trader)\n",
    "        notifier_list.append(Notifier(\n",
    "            channel_name='bitbank',\n",
    "            name=f'{status.crypto_symbol}-{status.fiat_symbol}',\n",
    "            icon_url=ICON_URL[(status.crypto_symbol, status.fiat_symbol)]\n",
    "        ))\n",
    "        messages.append(f'{status.get_robot_title()} launched')\n",
    "\n",
    "    notifier.send_slack(\n",
    "        '\\n'.join(messages), 'Power by https://jhub.name/', 'good'\n",
    "    )\n",
    "\n",
    "    idx = 0\n",
    "    num = len(status_list)\n",
    "\n",
    "    while __name__ == '__main__':\n",
    "\n",
    "        status = status_list[idx]\n",
    "        trader = trader_list[idx]\n",
    "        notifier = notifier_list[idx]\n",
    "\n",
    "        cooling_interval, trade_type, unit_amount = trader.check_and_trade()\n",
    "\n",
    "        bookkeeper.fsh.write(f'{status}\\n')\n",
    "\n",
    "        new_status_list = bookkeeper.estimate_status_list()\n",
    "\n",
    "        messages = []\n",
    "        for i, new_status in enumerate(new_status_list):\n",
    "            if new_status is not status_list[i]:\n",
    "\n",
    "                status_list[i].update(new_status)\n",
    "\n",
    "                bookkeeper.fth.write(f'{status_list[i]}\\n')\n",
    "                status_list[i].write()\n",
    "\n",
    "                messages.append(f'{status_list[i].last_transaction} => {status_list[i].get_robot_title()}')\n",
    "                messages.append(f'{status_list[i]} => Support level is {trader_list[i].min_unit_cc_trade_fiat_money} {status_list[i].fiat_symbol}.\\n')\n",
    "\n",
    "#         if status.bought_unit_amount == 0:\n",
    "#             messages.append(f'{status.get_robot_title()} terminated')\n",
    "#             del status_list[idx], trader_list[idx], notifier_list[idx]\n",
    "#             num = len(status_list)\n",
    "\n",
    "#         if status.total_gained_fiat_money < -Trader.MAX_LOST_JPY:\n",
    "#             messages.append(f'{status.get_robot_title()} terminated')\n",
    "#             del status_list[idx], trader_list[idx], notifier_list[idx]\n",
    "#             num = len(status_list)\n",
    "\n",
    "        if messages == []:\n",
    "\n",
    "            if status.sample_number % Trader.TRADE_RATE == 0:\n",
    "                bookkeeper.fth.write(f'{status}\\n')\n",
    "\n",
    "            if status.sample_number % BACKUP_RATE == 0:\n",
    "                status.write()\n",
    "\n",
    "            if status.sample_number % NOTIFY_RATE == 0:\n",
    "                messages.append(f'{status} => Support level is {trader.min_unit_cc_trade_fiat_money} {status.fiat_symbol}.')\n",
    "\n",
    "        if messages:\n",
    "            notifier.send_slack(\n",
    "                '\\n'.join(messages), 'Power by https://jhub.name/', 'good' if status.get_total_gain_fiat_money() >= 0 else 'danger'\n",
    "            )\n",
    "\n",
    "#         if num == 0:\n",
    "#             break\n",
    "\n",
    "        status.sample_number += 1\n",
    "        time.sleep(Trader.SAMPLE_INTERVAL / num / TEST_RATIO)\n",
    "\n",
    "        idx = (idx + 1) % num"
   ]
  },
  {
   "cell_type": "code",
   "execution_count": null,
   "metadata": {},
   "outputs": [],
   "source": [
    "# hide\n",
    "from nbdev.export import notebook2script; notebook2script()"
   ]
  }
 ],
 "metadata": {
  "kernelspec": {
   "display_name": "Python 3",
   "language": "python",
   "name": "python3"
  }
 },
 "nbformat": 4,
 "nbformat_minor": 4
}
