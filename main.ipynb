{
 "cells": [
  {
   "cell_type": "markdown",
   "metadata": {},
   "source": [
    "# A Trader Stabilize Fiat Value of Crypto Currency"
   ]
  },
  {
   "cell_type": "code",
   "execution_count": 1,
   "metadata": {},
   "outputs": [],
   "source": [
    "SAMPLE_INTERVAL = 60\n",
    "HAPPY_COOLING_TIME = 60\n",
    "SAD_COOLING_TIME = 60 * 12\n",
    "BUY_RATE = 30\n",
    "BASE_AMOUNT = 0.25\n",
    "MAX_SELL_COUNT = 32\n",
    "MAX_USED_JPY = 400000 * 1024\n",
    "MIN_UNIT_CC_GAIN_JPY = 250\n",
    "MIN_UNIT_CC_LOSS_JPY = 50\n",
    "MAX_UNIT_CC_LOSS_JPY = 50000\n",
    "MAX_LOSS_JPY = 2000 * 1024\n",
    "MAX_TOTAL_LOSS_JPY = 2000"
   ]
  },
  {
   "cell_type": "code",
   "execution_count": 2,
   "metadata": {},
   "outputs": [],
   "source": [
    "from datetime import datetime\n",
    "import json, sys, time\n",
    "import python_bitbankcc"
   ]
  },
  {
   "cell_type": "code",
   "execution_count": 3,
   "metadata": {},
   "outputs": [],
   "source": [
    "pub = python_bitbankcc.public()"
   ]
  },
  {
   "cell_type": "code",
   "execution_count": 4,
   "metadata": {},
   "outputs": [],
   "source": [
    "## Simulated One\n",
    "from unittest.mock import Mock\n",
    "prv = Mock()"
   ]
  },
  {
   "cell_type": "code",
   "execution_count": 5,
   "metadata": {},
   "outputs": [],
   "source": [
    "## Actual One\n",
    "# import os\n",
    "# prv = python_bitbankcc.private(\n",
    "#     os.environ['BITBANK_API_KEY'],\n",
    "#     os.environ['BITBANK_API_SECRET']\n",
    "# )"
   ]
  },
  {
   "cell_type": "code",
   "execution_count": 6,
   "metadata": {},
   "outputs": [],
   "source": [
    "TEST_RATIO = 1"
   ]
  },
  {
   "cell_type": "code",
   "execution_count": null,
   "metadata": {},
   "outputs": [],
   "source": [
    "sample_number = 0\n",
    "buy_count = 0\n",
    "sell_count = 0\n",
    "bought_amount = 0\n",
    "sold_amount = 0\n",
    "bought_avg_jpy = 0\n",
    "sold_avg_jpy = 0\n",
    "please_sell = False\n",
    "total_gained_jpy = 0\n",
    "with open('sample-history.txt', 'a', 1) as fsh, open('transaction-history.txt', 'a', 1) as fth:\n",
    "    while True:\n",
    "        now_ticker = pub.get_ticker('eth_jpy')\n",
    "        now_sell_jpy = int(now_ticker.get('buy', '0'))\n",
    "        now_buy_jpy = int(now_ticker.get('sell', '1'))\n",
    "        # comment out to speed up\n",
    "        fsh.write(f'BUY ETH for {now_buy_jpy} JPY: SELL ETH for {now_sell_jpy} JPY\\n')\n",
    "\n",
    "        cooling_time = HAPPY_COOLING_TIME\n",
    "        gained_jpy = now_sell_jpy * bought_amount - used_jpy\n",
    "        avg_jpy = used_jpy/bought_amount if bought_amount != 0 else sys.maxsize\n",
    "        if now_sell_jpy > avg_jpy + MIN_UNIT_CC_GAIN_JPY:\n",
    "            please_sell = True\n",
    "        if sample_number % BUY_RATE == 0:\n",
    "            avg_jpy = used_jpy/bought_amount if bought_amount != 0 else -sys.maxsize\n",
    "            if now_sell_jpy < avg_jpy - MAX_UNIT_CC_LOSS_JPY:\n",
    "                please_sell = True\n",
    "                cooling_time = SAD_COOLING_TIME\n",
    "            if gained_jpy < -MAX_LOSS_JPY:\n",
    "                please_sell = True\n",
    "                cooling_time = SAD_COOLING_TIME\n",
    "\n",
    "        if please_sell:\n",
    "            prv.order(\n",
    "                pair='eth_jpy', price='', amount=str(bought_amount), side='sell', order_type='market'\n",
    "            )\n",
    "            total_gained_jpy += gained_jpy\n",
    "            fth.write(\n",
    "                f'SOLD {bought_amount} ETH for {now_sell_jpy-avg_jpy:.2f}={now_sell_jpy}-{avg_jpy:.2f} JPY：BUY ETH for {now_buy_jpy} JPY\\n'\n",
    "                f'GAINED {gained_jpy} JPY: GAINED {total_gained_jpy} JPY in total at {datetime.now()}\\n\\n'\n",
    "            )\n",
    "            sell_count += 1\n",
    "            if sell_count == MAX_SELL_COUNT:\n",
    "                break\n",
    "            sample_number = 0\n",
    "            buy_count = 0\n",
    "            bought_amount = 0\n",
    "            used_jpy = 0\n",
    "            please_sell = False\n",
    "            time.sleep(cooling_time/TEST_RATIO)\n",
    "            continue\n",
    "\n",
    "        if sample_number % BUY_RATE == 0:\n",
    "            buy_count += 1\n",
    "            # (used_jpy + now_buy_jpy * now_buy_amount) / (bought_amount + now_buy_amount) - MIN_UNIT_CC_LOSS_JPY < now_sell_jpy\n",
    "            # (now_sell_jpy + MIN_UNIT_CC_LOSS_JPY - now_buy_jpy) * now_buy_amount > used_jpy - (now_sell_jpy + MIN_UNIT_CC_LOSS_JPY) * bought_amount\n",
    "            # now_buy_amount > (used_jpy - (now_sell_jpy + MIN_UNIT_CC_LOSS_JPY) * bought_amount) / (now_sell_jpy + MIN_UNIT_CC_LOSS_JPY - now_buy_jpy)\n",
    "            now_buy_amount = math.ceil((used_jpy - (now_sell_jpy + MIN_UNIT_CC_LOSS_JPY) * bought_amount) / (now_sell_jpy + MIN_UNIT_CC_LOSS_JPY - now_buy_jpy))\n",
    "            if used_jpy + now_buy_jpy * now_buy_amount <= MAX_USED_JPY:\n",
    "                prv.order(\n",
    "                    pair='eth_jpy', price=str(now_buy_jpy), amount=str(now_buy_amount), side='buy', order_type='limit'\n",
    "                )\n",
    "                fth.write(f'BOUGHT {now_buy_amount} ETH for {now_buy_jpy} JPY: SELL for {now_sell_jpy} JPY: NO.{buy_count}\\n')\n",
    "                bought_amount = bought_amount_after\n",
    "                used_jpy = used_jpy_after\n",
    "            else:\n",
    "                fth.write(f'BOUGHT 0 ETH for {now_buy_jpy} JPY: SELL for {now_sell_jpy} JPY: NO.{buy_count}\\n')\n",
    "            please_sell = True if used_jpy_after > MAX_USED_JPY else False\n",
    "\n",
    "        time.sleep(SAMPLE_INTERVAL/TEST_RATIO)\n",
    "        sample_number += 1"
   ]
  },
  {
   "cell_type": "code",
   "execution_count": null,
   "metadata": {},
   "outputs": [],
   "source": [
    "prv.order(\n",
    "    pair='eth_jpy', price='', amount='0.2', side='buy', order_type='market'\n",
    ")"
   ]
  }
 ],
 "metadata": {
  "kernelspec": {
   "display_name": "Python 3",
   "language": "python",
   "name": "python3"
  },
  "language_info": {
   "codemirror_mode": {
    "name": "ipython",
    "version": 3
   },
   "file_extension": ".py",
   "mimetype": "text/x-python",
   "name": "python",
   "nbconvert_exporter": "python",
   "pygments_lexer": "ipython3",
   "version": "3.6.7"
  }
 },
 "nbformat": 4,
 "nbformat_minor": 4
}
